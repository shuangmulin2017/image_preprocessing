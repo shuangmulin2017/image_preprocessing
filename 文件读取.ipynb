{
 "cells": [
  {
   "cell_type": "code",
   "execution_count": 38,
   "id": "b0089571-0d7c-460a-a489-72be041756ed",
   "metadata": {},
   "outputs": [],
   "source": [
    "import os\n",
    "import re"
   ]
  },
  {
   "cell_type": "code",
   "execution_count": 2,
   "id": "5fc59607-78ea-40ed-b1c9-c4073babdbbe",
   "metadata": {},
   "outputs": [],
   "source": [
    "relative_comicsPath = \"./sample_dataset\"\n",
    "comics_path = os.path.abspath(relative_comicsPath)"
   ]
  },
  {
   "cell_type": "code",
   "execution_count": 3,
   "id": "a56214e0-3a44-42a3-9761-b92eafe6b049",
   "metadata": {},
   "outputs": [
    {
     "data": {
      "text/plain": [
       "'D:\\\\studyhard_lin\\\\2025_research\\\\image_preprocessing\\\\sample_dataset'"
      ]
     },
     "execution_count": 3,
     "metadata": {},
     "output_type": "execute_result"
    }
   ],
   "source": [
    "comics_path"
   ]
  },
  {
   "cell_type": "code",
   "execution_count": 11,
   "id": "7ff5144b-87a2-4eff-84f2-9cf59412f5e2",
   "metadata": {},
   "outputs": [],
   "source": [
    "def files_in_folder(folder):\n",
    "    \"\"\"\n",
    "    获取当前文件夹下的所有文件名的列表\n",
    "    :param folder: 文件夹路径\n",
    "    :return: file list\n",
    "    \"\"\"\n",
    "    return sorted([f for f in os.listdir(folder) if os.path.isfile(os.path.join(folder, f))])"
   ]
  },
  {
   "cell_type": "code",
   "execution_count": 14,
   "id": "dce75582-b223-4df0-ba85-ea3c0ab0527c",
   "metadata": {},
   "outputs": [],
   "source": [
    "def folders_in_folder(folder):\n",
    "    \"\"\"\n",
    "    获取当前文件夹下的所有文件名的列表\n",
    "    :param folder: 文件夹路径\n",
    "    :return: file list\n",
    "    \"\"\"\n",
    "    return sorted([f for f in os.listdir(folder) if os.path.isdir(os.path.join(folder, f))])"
   ]
  },
  {
   "cell_type": "code",
   "execution_count": 15,
   "id": "6904b954-1e6f-43a6-988d-25d4684074fe",
   "metadata": {},
   "outputs": [],
   "source": [
    "comics_list = folders_in_folder(comics_path)"
   ]
  },
  {
   "cell_type": "code",
   "execution_count": 16,
   "id": "c8257a98-643e-48a4-a967-30aadd23fbfc",
   "metadata": {},
   "outputs": [
    {
     "data": {
      "text/plain": [
       "['Color', 'Doraemon', 'Gray']"
      ]
     },
     "execution_count": 16,
     "metadata": {},
     "output_type": "execute_result"
    }
   ],
   "source": [
    "comics_list"
   ]
  },
  {
   "cell_type": "code",
   "execution_count": 42,
   "id": "990e0b0a-bb86-41cd-8b97-0f6d19adc7ff",
   "metadata": {},
   "outputs": [],
   "source": [
    "comics_name = comics_list[0]"
   ]
  },
  {
   "cell_type": "code",
   "execution_count": 20,
   "id": "95717e15-30d9-4173-b22e-70fa15c384d6",
   "metadata": {},
   "outputs": [],
   "source": [
    "chapter_path = os.path.join(comics_path, comics, \"PicsFolds\")"
   ]
  },
  {
   "cell_type": "code",
   "execution_count": 21,
   "id": "e2e1a3d1-b3cb-4d34-9a39-9c9f5021ddca",
   "metadata": {},
   "outputs": [
    {
     "data": {
      "text/plain": [
       "'D:\\\\studyhard_lin\\\\2025_research\\\\image_preprocessing\\\\sample_dataset\\\\Color\\\\PicsFolds'"
      ]
     },
     "execution_count": 21,
     "metadata": {},
     "output_type": "execute_result"
    }
   ],
   "source": [
    "chapter_path"
   ]
  },
  {
   "cell_type": "code",
   "execution_count": 22,
   "id": "26d745f7-16a5-4f9c-98fd-ebe81ef3252e",
   "metadata": {},
   "outputs": [],
   "source": [
    "chapters_list = folders_in_folder(chapter_path)"
   ]
  },
  {
   "cell_type": "code",
   "execution_count": 23,
   "id": "cd687e10-9af9-4584-9fe1-3ecbea82814e",
   "metadata": {},
   "outputs": [
    {
     "data": {
      "text/plain": [
       "['001.pdf']"
      ]
     },
     "execution_count": 23,
     "metadata": {},
     "output_type": "execute_result"
    }
   ],
   "source": [
    "chapters_list"
   ]
  },
  {
   "cell_type": "code",
   "execution_count": 28,
   "id": "866adeca-a1a6-4145-84a7-0b402baeac8e",
   "metadata": {},
   "outputs": [],
   "source": [
    "chapter_dirname = chapters_list[0]"
   ]
  },
  {
   "cell_type": "code",
   "execution_count": 24,
   "id": "fd4651cb-27be-4eed-9ea5-71a43c1ea3c1",
   "metadata": {},
   "outputs": [],
   "source": [
    "chapter = chapters_list[0].split('.')[0]"
   ]
  },
  {
   "cell_type": "code",
   "execution_count": 25,
   "id": "f3e6cc09-933b-484a-9420-921cb026c2be",
   "metadata": {},
   "outputs": [
    {
     "data": {
      "text/plain": [
       "'001'"
      ]
     },
     "execution_count": 25,
     "metadata": {},
     "output_type": "execute_result"
    }
   ],
   "source": [
    "chapter"
   ]
  },
  {
   "cell_type": "code",
   "execution_count": 30,
   "id": "f5f4badf-fe5a-48cc-8afd-38c96fbb4b82",
   "metadata": {},
   "outputs": [],
   "source": [
    "chapter_path = os.path.join(chapter_path, chapter_dirname)"
   ]
  },
  {
   "cell_type": "code",
   "execution_count": 31,
   "id": "be7b0a41-e84c-470f-9dea-94ce541c5062",
   "metadata": {},
   "outputs": [
    {
     "data": {
      "text/plain": [
       "'D:\\\\studyhard_lin\\\\2025_research\\\\image_preprocessing\\\\sample_dataset\\\\Color\\\\PicsFolds\\\\001.pdf'"
      ]
     },
     "execution_count": 31,
     "metadata": {},
     "output_type": "execute_result"
    }
   ],
   "source": [
    "chapter_path"
   ]
  },
  {
   "cell_type": "code",
   "execution_count": 33,
   "id": "82a061b9-f997-4109-81ad-983b198fd3d7",
   "metadata": {},
   "outputs": [],
   "source": [
    "def jpg_in_folder(folder):\n",
    "    \"\"\"\n",
    "    获取当前文件夹下所有jpg文件的绝对路径\n",
    "    :param folder: 文件夹路径\n",
    "    :return: jpg list\n",
    "    \"\"\"\n",
    "    jpg_files = []\n",
    "    for f in os.listdir(folder):\n",
    "        if f.endswith('.jpeg'):\n",
    "            old_name = os.path.join(folder, f)\n",
    "            new_name = os.path.join(folder, f.replace('.jpeg', '.jpg'))\n",
    "            os.rename(old_name, new_name)\n",
    "            jpg_files.append(new_name)\n",
    "        elif f.endswith('.jpg'):\n",
    "            jpg_files.append(os.path.join(folder, f))\n",
    "            \n",
    "    return jpg_files"
   ]
  },
  {
   "cell_type": "code",
   "execution_count": 34,
   "id": "f8c11856-5585-438c-922c-e414fcd316e2",
   "metadata": {},
   "outputs": [],
   "source": [
    "jpg_files = jpg_in_folder(chapter_path) # 获取所有jpg文件的绝对路径列表"
   ]
  },
  {
   "cell_type": "code",
   "execution_count": 35,
   "id": "0d1ba380-b1b5-4430-bf11-b3875fe14612",
   "metadata": {},
   "outputs": [
    {
     "data": {
      "text/plain": [
       "['D:\\\\studyhard_lin\\\\2025_research\\\\image_preprocessing\\\\sample_dataset\\\\Color\\\\PicsFolds\\\\001.pdf\\\\001-01.jpg',\n",
       " 'D:\\\\studyhard_lin\\\\2025_research\\\\image_preprocessing\\\\sample_dataset\\\\Color\\\\PicsFolds\\\\001.pdf\\\\001-02.jpg',\n",
       " 'D:\\\\studyhard_lin\\\\2025_research\\\\image_preprocessing\\\\sample_dataset\\\\Color\\\\PicsFolds\\\\001.pdf\\\\001-03.jpg',\n",
       " 'D:\\\\studyhard_lin\\\\2025_research\\\\image_preprocessing\\\\sample_dataset\\\\Color\\\\PicsFolds\\\\001.pdf\\\\001-05.jpg',\n",
       " 'D:\\\\studyhard_lin\\\\2025_research\\\\image_preprocessing\\\\sample_dataset\\\\Color\\\\PicsFolds\\\\001.pdf\\\\001-06.jpg',\n",
       " 'D:\\\\studyhard_lin\\\\2025_research\\\\image_preprocessing\\\\sample_dataset\\\\Color\\\\PicsFolds\\\\001.pdf\\\\001-07.jpg',\n",
       " 'D:\\\\studyhard_lin\\\\2025_research\\\\image_preprocessing\\\\sample_dataset\\\\Color\\\\PicsFolds\\\\001.pdf\\\\001-08.jpg',\n",
       " 'D:\\\\studyhard_lin\\\\2025_research\\\\image_preprocessing\\\\sample_dataset\\\\Color\\\\PicsFolds\\\\001.pdf\\\\001-09.jpg',\n",
       " 'D:\\\\studyhard_lin\\\\2025_research\\\\image_preprocessing\\\\sample_dataset\\\\Color\\\\PicsFolds\\\\001.pdf\\\\001-10.jpg',\n",
       " 'D:\\\\studyhard_lin\\\\2025_research\\\\image_preprocessing\\\\sample_dataset\\\\Color\\\\PicsFolds\\\\001.pdf\\\\001-11.jpg',\n",
       " 'D:\\\\studyhard_lin\\\\2025_research\\\\image_preprocessing\\\\sample_dataset\\\\Color\\\\PicsFolds\\\\001.pdf\\\\001-12.jpg',\n",
       " 'D:\\\\studyhard_lin\\\\2025_research\\\\image_preprocessing\\\\sample_dataset\\\\Color\\\\PicsFolds\\\\001.pdf\\\\001-13.jpg',\n",
       " 'D:\\\\studyhard_lin\\\\2025_research\\\\image_preprocessing\\\\sample_dataset\\\\Color\\\\PicsFolds\\\\001.pdf\\\\001-14.jpg',\n",
       " 'D:\\\\studyhard_lin\\\\2025_research\\\\image_preprocessing\\\\sample_dataset\\\\Color\\\\PicsFolds\\\\001.pdf\\\\001-15.jpg',\n",
       " 'D:\\\\studyhard_lin\\\\2025_research\\\\image_preprocessing\\\\sample_dataset\\\\Color\\\\PicsFolds\\\\001.pdf\\\\001-16.jpg',\n",
       " 'D:\\\\studyhard_lin\\\\2025_research\\\\image_preprocessing\\\\sample_dataset\\\\Color\\\\PicsFolds\\\\001.pdf\\\\001-17.jpg',\n",
       " 'D:\\\\studyhard_lin\\\\2025_research\\\\image_preprocessing\\\\sample_dataset\\\\Color\\\\PicsFolds\\\\001.pdf\\\\001-18.jpg',\n",
       " 'D:\\\\studyhard_lin\\\\2025_research\\\\image_preprocessing\\\\sample_dataset\\\\Color\\\\PicsFolds\\\\001.pdf\\\\001-19.jpg',\n",
       " 'D:\\\\studyhard_lin\\\\2025_research\\\\image_preprocessing\\\\sample_dataset\\\\Color\\\\PicsFolds\\\\001.pdf\\\\001-20.jpg',\n",
       " 'D:\\\\studyhard_lin\\\\2025_research\\\\image_preprocessing\\\\sample_dataset\\\\Color\\\\PicsFolds\\\\001.pdf\\\\001-21.jpg',\n",
       " 'D:\\\\studyhard_lin\\\\2025_research\\\\image_preprocessing\\\\sample_dataset\\\\Color\\\\PicsFolds\\\\001.pdf\\\\001-22.jpg',\n",
       " 'D:\\\\studyhard_lin\\\\2025_research\\\\image_preprocessing\\\\sample_dataset\\\\Color\\\\PicsFolds\\\\001.pdf\\\\001-23.jpg',\n",
       " 'D:\\\\studyhard_lin\\\\2025_research\\\\image_preprocessing\\\\sample_dataset\\\\Color\\\\PicsFolds\\\\001.pdf\\\\001-24.jpg']"
      ]
     },
     "execution_count": 35,
     "metadata": {},
     "output_type": "execute_result"
    }
   ],
   "source": [
    "jpg_files"
   ]
  },
  {
   "cell_type": "code",
   "execution_count": 36,
   "id": "8642a3db-a292-4105-adba-d19181d1f29d",
   "metadata": {},
   "outputs": [],
   "source": [
    "filename = os.path.basename(jpg_files[0]) # 获取文件名"
   ]
  },
  {
   "cell_type": "code",
   "execution_count": 37,
   "id": "c209ecb3-9c81-42c0-b1eb-c32171ab29c8",
   "metadata": {},
   "outputs": [
    {
     "data": {
      "text/plain": [
       "'001-01.jpg'"
      ]
     },
     "execution_count": 37,
     "metadata": {},
     "output_type": "execute_result"
    }
   ],
   "source": [
    "filename"
   ]
  },
  {
   "cell_type": "code",
   "execution_count": 39,
   "id": "214fa587-f827-41ce-b95f-d7ad352a7267",
   "metadata": {},
   "outputs": [
    {
     "name": "stdout",
     "output_type": "stream",
     "text": [
      "['001', '01']\n"
     ]
    }
   ],
   "source": [
    "import re\n",
    " \n",
    "numbers = re.findall(r'\\d+', filename)\n",
    "print(numbers)"
   ]
  },
  {
   "cell_type": "code",
   "execution_count": 40,
   "id": "bab99561-5ac4-4e16-9380-e53b1c56a185",
   "metadata": {},
   "outputs": [],
   "source": [
    "def filename_to_number(filename):\n",
    "    \"\"\"\n",
    "    从jpg文件名(\"001-023.jpg\")中提取页数\n",
    "    :param filename: jpg文件名\n",
    "    :return chapter_number, page_number: 章节数，页数\n",
    "    \"\"\"\n",
    "    if filename.endswith('.jpg'):\n",
    "        filename = os.path.splitext(filename)[0]\n",
    "        name_list = re.findall(r'\\d+', filename)\n",
    "        if len(name_list) == 2:\n",
    "            chapter_number, page_number = name_list\n",
    "            chapter_number = int(chapter_number, 10) # 以10进制形式强制转换\n",
    "            page_number = int(page_number, 10) # 以10进制形式强制转换\n",
    "            return chapter_number, page_number\n",
    "        else:\n",
    "            print(\"please input a file name seems like '001-023.jpg' or '001(02).jpg'\")\n",
    "    else:\n",
    "        print(\"please input a file name with the suffix jpg\")"
   ]
  },
  {
   "cell_type": "code",
   "execution_count": 41,
   "id": "26fbfc88-2d15-4c6b-b47c-a1939e10745b",
   "metadata": {},
   "outputs": [
    {
     "data": {
      "text/plain": [
       "(1, 1)"
      ]
     },
     "execution_count": 41,
     "metadata": {},
     "output_type": "execute_result"
    }
   ],
   "source": [
    "filename_to_number(filename)"
   ]
  },
  {
   "cell_type": "code",
   "execution_count": 44,
   "id": "fca033aa-7f11-47c4-994f-d395b39a222b",
   "metadata": {},
   "outputs": [],
   "source": [
    "def save_result_directory(save_dir, comics_name, chapter):\n",
    "    \"\"\"\n",
    "    返回文件读取目录对应的结果存储目录\n",
    "    :param save_dir: 总存储目录\n",
    "    :return save_directory: 文件存储目录\n",
    "    \"\"\"\n",
    "    \n",
    "    # directory_path = os.path.dirname(filepath)\n",
    "    save_directory = os.path.join(save_dir, comics_name, chapter)\n",
    "    \n",
    "    if not os.path.exists(save_directory):\n",
    "        os.makedirs(save_directory)\n",
    "        print(\"the storage directory does not exist, create a specified directory\")\n",
    "        \n",
    "    return save_directory"
   ]
  },
  {
   "cell_type": "code",
   "execution_count": 45,
   "id": "3f035557-817b-4229-80f4-f8e73265cf1b",
   "metadata": {},
   "outputs": [
    {
     "name": "stdout",
     "output_type": "stream",
     "text": [
      "the storage directory does not exist, create a specified directory\n"
     ]
    }
   ],
   "source": [
    "save_directory = save_result_directory(\"./result/output/\", comics_name, chapter)"
   ]
  },
  {
   "cell_type": "markdown",
   "id": "643a47dd-b8ca-40fc-a279-ac1809e55db5",
   "metadata": {},
   "source": [
    "# 正式代码"
   ]
  },
  {
   "cell_type": "code",
   "execution_count": 46,
   "id": "4593fea3-535d-4eab-a073-d37defc3f3bb",
   "metadata": {},
   "outputs": [],
   "source": [
    "relative_comicsPath = \"./sample_dataset\"\n",
    "comics_path = os.path.abspath(relative_comicsPath)"
   ]
  },
  {
   "cell_type": "code",
   "execution_count": 47,
   "id": "db283844-8383-4f42-8bca-ec590560a577",
   "metadata": {},
   "outputs": [],
   "source": [
    "def files_in_folder(folder):\n",
    "    \"\"\"\n",
    "    获取当前文件夹下的所有文件名的列表\n",
    "    :param folder: 文件夹路径\n",
    "    :return: file list\n",
    "    \"\"\"\n",
    "    return sorted([f for f in os.listdir(folder) if os.path.isfile(os.path.join(folder, f))])"
   ]
  },
  {
   "cell_type": "code",
   "execution_count": 48,
   "id": "83b73c65-2715-4a26-a9a1-98c6f867b89e",
   "metadata": {},
   "outputs": [],
   "source": [
    "def folders_in_folder(folder):\n",
    "    \"\"\"\n",
    "    获取当前文件夹下的所有文件名的列表\n",
    "    :param folder: 文件夹路径\n",
    "    :return: file list\n",
    "    \"\"\"\n",
    "    return sorted([f for f in os.listdir(folder) if os.path.isdir(os.path.join(folder, f))])"
   ]
  },
  {
   "cell_type": "code",
   "execution_count": 50,
   "id": "985e5eaf-6395-4b25-b7fc-4b997d4f7d69",
   "metadata": {},
   "outputs": [],
   "source": [
    "comics_list = folders_in_folder(comics_path) # 获取漫画目录"
   ]
  },
  {
   "cell_type": "code",
   "execution_count": 51,
   "id": "e86c6bdc-611d-454f-a59e-5f54e0cc6ea0",
   "metadata": {},
   "outputs": [],
   "source": [
    "def jpg_in_folder(folder):\n",
    "    \"\"\"\n",
    "    获取当前文件夹下所有jpg文件的绝对路径\n",
    "    :param folder: 文件夹路径\n",
    "    :return: jpg list\n",
    "    \"\"\"\n",
    "    jpg_files = []\n",
    "    for f in os.listdir(folder):\n",
    "        if f.endswith('.jpeg'):\n",
    "            old_name = os.path.join(folder, f)\n",
    "            new_name = os.path.join(folder, f.replace('.jpeg', '.jpg'))\n",
    "            os.rename(old_name, new_name)\n",
    "            jpg_files.append(new_name)\n",
    "        elif f.endswith('.jpg'):\n",
    "            jpg_files.append(os.path.join(folder, f))\n",
    "            \n",
    "    return jpg_files"
   ]
  },
  {
   "cell_type": "code",
   "execution_count": 52,
   "id": "6a5821bd-77d0-48b6-bfaa-88ffcd4d1da7",
   "metadata": {},
   "outputs": [],
   "source": [
    "def save_result_directory(save_dir, comics_name, chapter):\n",
    "    \"\"\"\n",
    "    返回文件读取目录对应的结果存储目录\n",
    "    :param save_dir: 总存储目录\n",
    "    :return save_directory: 文件存储目录\n",
    "    \"\"\"\n",
    "    \n",
    "    # directory_path = os.path.dirname(filepath)\n",
    "    save_directory = os.path.join(save_dir, comics_name, chapter)\n",
    "    \n",
    "    if not os.path.exists(save_directory):\n",
    "        os.makedirs(save_directory)\n",
    "        print(\"the storage directory does not exist, create a specified directory\")\n",
    "        \n",
    "    return save_directory"
   ]
  },
  {
   "cell_type": "code",
   "execution_count": 53,
   "id": "92f0b573-c4a7-43f9-b125-ccf9fba16859",
   "metadata": {},
   "outputs": [
    {
     "name": "stdout",
     "output_type": "stream",
     "text": [
      "the storage directory does not exist, create a specified directory\n",
      "the storage directory does not exist, create a specified directory\n"
     ]
    }
   ],
   "source": [
    "for comics_name in comics_list:\n",
    "    chapter_path = os.path.join(comics_path, comics_name, \"PicsFolds\") # 获取章节读取目录\n",
    "    chapters_list = folders_in_folder(chapter_path)\n",
    "    for chapter_dir in chapters_list:\n",
    "        chapter = chapter_dir.split('.')[0]\n",
    "        chapter_path = os.path.join(chapter_path, chapter_dir)\n",
    "        jpg_files = jpg_in_folder(chapter_path) # 获取所有jpg文件的绝对路径列表\n",
    "        for filename in jpg_files:\n",
    "            filename = os.path.basename(filename) # 获取文件名\n",
    "            chapter_id, page_id = filename_to_number(filename)\n",
    "        save_directory = save_result_directory(\"./result/output/\", comics_name, chapter)"
   ]
  },
  {
   "cell_type": "code",
   "execution_count": null,
   "id": "0134a334-52b8-4a51-bdf7-7d6e193eed88",
   "metadata": {},
   "outputs": [],
   "source": []
  }
 ],
 "metadata": {
  "kernelspec": {
   "display_name": "Python 3 (ipykernel)",
   "language": "python",
   "name": "python3"
  },
  "language_info": {
   "codemirror_mode": {
    "name": "ipython",
    "version": 3
   },
   "file_extension": ".py",
   "mimetype": "text/x-python",
   "name": "python",
   "nbconvert_exporter": "python",
   "pygments_lexer": "ipython3",
   "version": "3.8.20"
  }
 },
 "nbformat": 4,
 "nbformat_minor": 5
}
