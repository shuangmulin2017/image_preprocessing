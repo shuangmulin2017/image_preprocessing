{
 "cells": [
  {
   "cell_type": "code",
   "execution_count": 1,
   "id": "5a2d285a-689f-4cd6-87d6-287285abc44b",
   "metadata": {},
   "outputs": [],
   "source": [
    "import cv2\n",
    "import os\n",
    "import numpy as np\n",
    "from matplotlib import pyplot as plt"
   ]
  },
  {
   "cell_type": "markdown",
   "id": "fe5e88d5-1afa-49ba-ad85-8aff91afdfd9",
   "metadata": {},
   "source": [
    "# mask初级使用"
   ]
  },
  {
   "cell_type": "code",
   "execution_count": 2,
   "id": "6800f486-cf10-4323-9db8-b78ccb00fe44",
   "metadata": {},
   "outputs": [],
   "source": [
    "# 读取图像并创建对应掩膜\n",
    "img = cv2.imread(\"./dataset/background.jpg\")"
   ]
  },
  {
   "cell_type": "markdown",
   "id": "a0ec6247-5b6f-4c49-be0c-8fe53987365d",
   "metadata": {},
   "source": [
    "## method 1"
   ]
  },
  {
   "cell_type": "code",
   "execution_count": 3,
   "id": "135d054f-be01-4e84-b44f-412c11fd2f8e",
   "metadata": {},
   "outputs": [],
   "source": [
    "mask = np.zeros(img.shape, dtype=np.uint8)"
   ]
  },
  {
   "cell_type": "code",
   "execution_count": 4,
   "id": "fd4b6cfd-c78f-4008-a301-39f83921c154",
   "metadata": {},
   "outputs": [
    {
     "name": "stdout",
     "output_type": "stream",
     "text": [
      "(690, 690, 3)\n"
     ]
    }
   ],
   "source": [
    "print(img.shape)"
   ]
  },
  {
   "cell_type": "markdown",
   "id": "615fd580-c8e3-4c89-83ac-638c16e1813e",
   "metadata": {},
   "source": [
    "原始图像的尺寸为（690,690），指定矩形ROI"
   ]
  },
  {
   "cell_type": "code",
   "execution_count": 5,
   "id": "e760182b-0a86-44d9-8675-48cb4e417fe5",
   "metadata": {},
   "outputs": [],
   "source": [
    "mask[300:690, : , : ] = 255 #白色部分是想要保留的部分"
   ]
  },
  {
   "cell_type": "code",
   "execution_count": 6,
   "id": "acf8dedc-c688-496f-ab02-7025896974bf",
   "metadata": {},
   "outputs": [],
   "source": [
    "mask_img = cv2.bitwise_and(img, mask)"
   ]
  },
  {
   "cell_type": "code",
   "execution_count": 7,
   "id": "b1a27629-b05f-4e32-a32a-06071b29d58a",
   "metadata": {},
   "outputs": [],
   "source": [
    "cv2.imshow(\"raw image\", img)\n",
    "cv2.imshow(\"mask\", mask)\n",
    "cv2.imshow(\"masked image\", mask_img)\n",
    "\n",
    "cv2.waitKey(0)\n",
    "cv2.destroyAllWindows()"
   ]
  },
  {
   "cell_type": "markdown",
   "id": "bb751fe9-aa53-473d-961f-9936b576b2cb",
   "metadata": {},
   "source": [
    "## method 2\n",
    "若图像较大，使用method 2比method 1运算速度更快"
   ]
  },
  {
   "cell_type": "code",
   "execution_count": 8,
   "id": "d8b18e1e-ba09-4aca-bbc9-d8663c4cbebb",
   "metadata": {},
   "outputs": [],
   "source": [
    "h, w, c = img.shape # 获取高度,宽度,通道数\n",
    "mask_2 = np.zeros((h, w), dtype=np.uint8)\n",
    "mask_2[300:690, : ] = 200 # 将ROI设置为不为0"
   ]
  },
  {
   "cell_type": "code",
   "execution_count": 9,
   "id": "cb74907b-97e9-44aa-8652-094d75c6dbfc",
   "metadata": {},
   "outputs": [],
   "source": [
    "mask_img_2 = cv2.bitwise_and(img, img, mask=mask_2) # 自身与运算得到原图像"
   ]
  },
  {
   "cell_type": "code",
   "execution_count": 10,
   "id": "b43d6190-b93d-4254-b64d-4328ad9f83bf",
   "metadata": {},
   "outputs": [],
   "source": [
    "cv2.imshow(\"masked image\", mask_img_2)\n",
    "\n",
    "cv2.waitKey(0)\n",
    "cv2.destroyAllWindows()"
   ]
  },
  {
   "cell_type": "markdown",
   "id": "f40a3d1d-1564-4d8f-9a68-4caabd9dbe80",
   "metadata": {},
   "source": [
    "# 识别不规则区域\n",
    "\n",
    "\n",
    "演示案例：加载logo图片，去除logo图片中的背景，并用logo覆盖目标图像img的相应位置。\n",
    "\n",
    "\n",
    "\n",
    "<div style=\"display: flex; align-items: center; justify-content: space-around;\">\n",
    "    <img src=\"dataset/logo.png\" alt=\"logo\" style=\"max-width: 49%;\">\n",
    "    <img src=\"dataset/background.jpg\" alt=\"img\" style=\"max-width: 49%;\">\n",
    "</div>"
   ]
  },
  {
   "cell_type": "code",
   "execution_count": 85,
   "id": "fdebafe8-a092-4695-b34c-0c9958491566",
   "metadata": {},
   "outputs": [],
   "source": [
    "# 加载logo图片\n",
    "raw_logo = cv2.imread('dataset/logo.png')\n",
    "assert raw_logo is not None, \"file could not be read, check with os.path.exists()\""
   ]
  },
  {
   "cell_type": "code",
   "execution_count": 92,
   "id": "0ba35f0e-ef5d-4395-80c3-a433efad5d69",
   "metadata": {},
   "outputs": [],
   "source": [
    "# 读取添加logo的背景图\n",
    "img = cv2.imread(\"./dataset/background.jpg\")\n",
    "assert img is not None, \"file could not be read, check with os.path.exists()\""
   ]
  },
  {
   "cell_type": "code",
   "execution_count": 93,
   "id": "e5483388-8fcb-401a-9fad-7720a1883318",
   "metadata": {},
   "outputs": [
    {
     "data": {
      "text/plain": [
       "(690, 690, 3)"
      ]
     },
     "execution_count": 93,
     "metadata": {},
     "output_type": "execute_result"
    }
   ],
   "source": [
    "img.shape"
   ]
  },
  {
   "cell_type": "code",
   "execution_count": 94,
   "id": "eede016e-8971-4db3-9cd9-7c9c34cf463e",
   "metadata": {},
   "outputs": [
    {
     "data": {
      "text/plain": [
       "(2048, 2048, 3)"
      ]
     },
     "execution_count": 94,
     "metadata": {},
     "output_type": "execute_result"
    }
   ],
   "source": [
    "raw_logo.shape"
   ]
  },
  {
   "cell_type": "code",
   "execution_count": 95,
   "id": "e26f885f-daf9-418c-902e-cbf11ad67aae",
   "metadata": {},
   "outputs": [],
   "source": [
    "# 缩小图像尺寸\n",
    "scale = 1/4\n",
    "logo = cv2.resize(raw_logo, dsize=None, fx=scale, fy=scale, interpolation=cv2.INTER_LINEAR)"
   ]
  },
  {
   "cell_type": "code",
   "execution_count": 96,
   "id": "059cf8f9-5354-4393-8624-b6f9f20f5c22",
   "metadata": {},
   "outputs": [
    {
     "data": {
      "text/plain": [
       "(512, 512, 3)"
      ]
     },
     "execution_count": 96,
     "metadata": {},
     "output_type": "execute_result"
    }
   ],
   "source": [
    "logo.shape"
   ]
  },
  {
   "cell_type": "code",
   "execution_count": 97,
   "id": "85a719ae-7687-4474-8950-3810f137f84e",
   "metadata": {},
   "outputs": [],
   "source": [
    "# 将logo放置在背景图的左上角\n",
    "rows,cols,channels = logo.shape\n",
    "roi = img[0:rows, 0:cols]"
   ]
  },
  {
   "cell_type": "code",
   "execution_count": 98,
   "id": "6d988fae-5f9b-4970-8520-f51ffe34377f",
   "metadata": {},
   "outputs": [],
   "source": [
    "cv2.imshow('roi',roi)\n",
    "cv2.waitKey(0)\n",
    "cv2.destroyAllWindows()"
   ]
  },
  {
   "cell_type": "markdown",
   "id": "f69b000c",
   "metadata": {},
   "source": [
    "## Step1：转换为二值图\n",
    "\n",
    "1. 将输入图像转换为灰度图 `cv2.cvtColor(img,cv2.COLOR_BGR2GRAY)`\n",
    "2. 通过`cv2.threshold`将感兴趣的部分设置为白色（像素值255）前景，不感兴趣的部分统一设置为黑色（像素值0）背景"
   ]
  },
  {
   "cell_type": "code",
   "execution_count": 99,
   "id": "98989374-5844-4c29-9b4f-a3626e6b3af6",
   "metadata": {},
   "outputs": [],
   "source": [
    "# 创建logo的掩膜\n",
    "logo_gray = cv2.cvtColor(logo,cv2.COLOR_BGR2GRAY)"
   ]
  },
  {
   "cell_type": "markdown",
   "id": "ecb632dc",
   "metadata": {},
   "source": [
    "### cv2.threshold"
   ]
  },
  {
   "cell_type": "raw",
   "id": "f79a8e69-3650-4c4f-bb01-c8fcba273804",
   "metadata": {},
   "source": [
    "cv2.threshold(\tsrc, thresh, maxval, type[, dst]\t) ->\tretval, dst\n",
    "\n",
    "将灰度图像分为两个区域（前景和背景）。核心原理是将输入图像中的每个像素值与阈值进行比较，大于阈值设置为maxval（通常为255），否则为0\n",
    "\n",
    "cv::ThresholdTypes {\n",
    "  cv::THRESH_BINARY = 0 ,\n",
    "  cv::THRESH_BINARY_INV = 1 ,\n",
    "  cv::THRESH_TRUNC = 2 ,\n",
    "  cv::THRESH_TOZERO = 3 ,\n",
    "  cv::THRESH_TOZERO_INV = 4 ,\n",
    "  cv::THRESH_MASK = 7 ,\n",
    "  cv::THRESH_OTSU = 8 ,\n",
    "  cv::THRESH_TRIANGLE = 16\n",
    "}"
   ]
  },
  {
   "cell_type": "markdown",
   "id": "afdf47ce-189a-4960-98f1-aae3437cc305",
   "metadata": {},
   "source": [
    "The function is typically used to get a bi-level (binary) image out of a grayscale image or for removing a noise, that is, filtering out pixels with too small or too large values. There are several types of thresholding supported by the function. They are determined by type parameter.\n",
    "- maxval: maximum value to use with the `THRESH_BINARY` and `THRESH_BINARY_INV` thresholding types.\n",
    "- retval: 实际使用的阈值\n",
    "- dst: 处理后的图像"
   ]
  },
  {
   "cell_type": "code",
   "execution_count": 100,
   "id": "3dbfed00-fdff-4daa-91b6-37b22c37dcf5",
   "metadata": {},
   "outputs": [],
   "source": [
    "cv2.imshow('logo_gray',logo_gray)\n",
    "cv2.waitKey(0)\n",
    "cv2.destroyAllWindows()"
   ]
  },
  {
   "cell_type": "markdown",
   "id": "da9f469c-5b90-41e0-a7ed-d054efebc615",
   "metadata": {},
   "source": [
    "注意到在创建掩膜时，白色区域是我们感兴趣的区域（ROI）。即，mask_inv是logo对应的掩膜。在下一章节我们考虑获取更加紧凑的表示，即去除周围的黑色边框。"
   ]
  },
  {
   "cell_type": "code",
   "execution_count": 111,
   "id": "ab4f1d1f-2375-48fc-95f9-a8ea9939f9ec",
   "metadata": {},
   "outputs": [],
   "source": [
    "# 获取二值灰度图像\n",
    "ret, mask = cv2.threshold(logo_gray, 230, 255, cv2.THRESH_BINARY) #将原logo中的背景色设置为白色(255)，logo部分设置为黑色\n",
    "ret, mask_inv = cv2.threshold(logo_gray, 230, 255, cv2.THRESH_BINARY_INV) #将原logo中的背景色设置为黑色(0)，logo部分设置为白色\n",
    "# mask_inv = cv2.bitwise_not(mask)"
   ]
  },
  {
   "cell_type": "code",
   "execution_count": 102,
   "id": "f06467d2-e115-458d-a58d-4c74f792c94d",
   "metadata": {},
   "outputs": [
    {
     "data": {
      "text/plain": [
       "(512, 512)"
      ]
     },
     "execution_count": 102,
     "metadata": {},
     "output_type": "execute_result"
    }
   ],
   "source": [
    "mask_inv.shape"
   ]
  },
  {
   "cell_type": "code",
   "execution_count": 103,
   "id": "c5cba7ec-805a-409d-b2e5-ba44538062f8",
   "metadata": {},
   "outputs": [],
   "source": [
    "cv2.namedWindow('mask', cv2.WINDOW_NORMAL) \n",
    "cv2.resizeWindow('mask', width=600, height=600)\n",
    "cv2.imshow('mask',mask_inv)\n",
    "cv2.waitKey(0)\n",
    "cv2.destroyAllWindows()"
   ]
  },
  {
   "cell_type": "code",
   "execution_count": 105,
   "id": "3c687c45-5de6-4aef-82cd-fc49ec349fc9",
   "metadata": {},
   "outputs": [],
   "source": [
    "# 保留roi中与logo图像背景重叠的部分\n",
    "img_bg = cv2.bitwise_and(roi,roi,mask = mask)\n",
    "\n",
    "# 提取logo图像中的logo部分\n",
    "logo_fg = cv2.bitwise_and(logo,logo,mask = mask_inv)\n",
    "\n",
    "# 将logo放置在roi中\n",
    "dst = cv2.add(img_bg,logo_fg)\n",
    "img[0:rows, 0:cols ] = dst"
   ]
  },
  {
   "cell_type": "code",
   "execution_count": 106,
   "id": "c74476ef-01fd-4963-876a-a5b1ed77c195",
   "metadata": {},
   "outputs": [],
   "source": [
    "cv2.imshow('image_logo',img)\n",
    "cv2.waitKey(0)\n",
    "cv2.destroyAllWindows()"
   ]
  },
  {
   "cell_type": "markdown",
   "id": "784cf6dc-2737-4fb0-a22f-25d10cd32761",
   "metadata": {},
   "source": [
    "## Step2: 获取前景的边缘\n",
    "\n",
    "1. 使用`cv2.findNonZero(binary_image)`,`cv2.findContours(binary_image)`方法帮助定位前景的位置\n",
    "2. 使用`cv2.boundingRect()`找到前景区域的最小外接矩形"
   ]
  },
  {
   "cell_type": "code",
   "execution_count": 120,
   "id": "c2b8a1ec-e323-4e06-b9a8-0e49e8530dcb",
   "metadata": {},
   "outputs": [],
   "source": [
    "# 读取添加logo的背景图\n",
    "img = cv2.imread(\"./dataset/background.jpg\")\n",
    "assert img is not None, \"file could not be read, check with os.path.exists()\""
   ]
  },
  {
   "cell_type": "markdown",
   "id": "ebc48d51-9aa7-4d46-8336-a6cad3d714e7",
   "metadata": {},
   "source": [
    "上一章节添加logo时，由于logo图片的背景占比过大，原本想要添加到左上角的logo实际添加到了img图像的中部。因此需要对相应的掩膜mask_inv进行裁切，去除周围的黑色边框。"
   ]
  },
  {
   "cell_type": "code",
   "execution_count": 114,
   "id": "44525711-6ac5-4a20-a73c-dba4c9d57bcb",
   "metadata": {},
   "outputs": [],
   "source": [
    "cv2.namedWindow('mask', cv2.WINDOW_NORMAL) \n",
    "cv2.resizeWindow('mask', width=600, height=600)\n",
    "cv2.imshow('mask',mask_inv)\n",
    "cv2.waitKey(0)\n",
    "cv2.destroyAllWindows()"
   ]
  },
  {
   "cell_type": "markdown",
   "id": "bf964227-6b91-4f77-9f2d-69de1224edee",
   "metadata": {},
   "source": [
    "## cv2.findNonZero()"
   ]
  },
  {
   "cell_type": "raw",
   "id": "37622cc6-9578-4fbb-b068-ef81a2fc4e75",
   "metadata": {},
   "source": [
    "查找非零元素的索引\n",
    "idx = cv2.findNonZero( src )\n",
    "其中：\n",
    "src 为参数，表示要查找非零元素的图像。必须是8位单通道图像。\n",
    "idx 为Numpy数组，形状为（N,1,2），其中N表示非零元素的数量，每一行是一个（x，y）坐标对。表示非零元素的索引位置。每一行包含了一个非零点的（x,y）坐标，对应的是矩阵中的（列号,行号）\n",
    "\n",
    "用于在二值图像（灰度二值图像）中，帮助定位前景图像。"
   ]
  },
  {
   "cell_type": "code",
   "execution_count": 116,
   "id": "907c5321-d498-43a8-9087-1fbe63d05bd6",
   "metadata": {},
   "outputs": [
    {
     "name": "stdout",
     "output_type": "stream",
     "text": [
      "(28880, 1, 2)\n"
     ]
    }
   ],
   "source": [
    "# 查找非零元素的位置\n",
    "non_zero_points = cv2.findNonZero(mask_inv)\n",
    "print(non_zero_points.shape)\n",
    "\n",
    "# 将坐标数组重新塑形为(N, 2),方便输出\n",
    "non_zero_points = non_zero_points.reshape((-1, 2))\n",
    "\n",
    "# 输出结果\n",
    "# for point in non_zero_points:\n",
    "#     x, y = point.ravel()\n",
    "#     print(f'Point found at ({x}, {y})')"
   ]
  },
  {
   "cell_type": "markdown",
   "id": "45415f90-1c41-4487-86fd-56e68976625e",
   "metadata": {},
   "source": [
    "## cv2.boundingRect()"
   ]
  },
  {
   "cell_type": "raw",
   "id": "8857906b-eecd-4892-b0ee-50114626a8b3",
   "metadata": {},
   "source": [
    "x, y, w, h = cv2.boundingRect(points)\n",
    "计算给定轮廓（the specified point set or non-zero pixels of gray-scale image）的最小外接矩形。 \n",
    "- x，y: 外接矩形左上角的坐标\n",
    "- w，h：外接矩形宽度和高度\n",
    "\n",
    "通常与cv2.findContours()一起使用，后者在二值图像中找到轮廓。"
   ]
  },
  {
   "cell_type": "code",
   "execution_count": 117,
   "id": "9bedff08-8193-44a2-b7dc-f4766c4a089c",
   "metadata": {},
   "outputs": [],
   "source": [
    "x, y, w, h = cv2.boundingRect(cv2.findNonZero(mask_inv))\n",
    "cropped_mask_inv = mask_inv[y:y+h, x:x+w]"
   ]
  },
  {
   "cell_type": "code",
   "execution_count": 118,
   "id": "c58c2870-fc40-4ee7-8bc0-44dbaec3119c",
   "metadata": {},
   "outputs": [],
   "source": [
    "cv2.imshow('cropped_mask',cropped_mask_inv)\n",
    "cv2.waitKey(0)\n",
    "cv2.destroyAllWindows()"
   ]
  },
  {
   "cell_type": "code",
   "execution_count": 119,
   "id": "a4817cb2-1fb1-4f85-931f-b22c07c450a5",
   "metadata": {},
   "outputs": [],
   "source": [
    "cropped_mask = cv2.bitwise_not(cropped_mask_inv)"
   ]
  },
  {
   "cell_type": "code",
   "execution_count": 122,
   "id": "b1cbcc42-93ed-4c93-affb-b60fd5870e76",
   "metadata": {},
   "outputs": [],
   "source": [
    "# 将logo放置在背景图的左上角\n",
    "rows,cols = cropped_mask.shape\n",
    "roi = img[0:rows, 0:cols]"
   ]
  },
  {
   "cell_type": "code",
   "execution_count": 123,
   "id": "e45316a5-86d6-429d-b637-440bb22b74f1",
   "metadata": {},
   "outputs": [],
   "source": [
    "# 保留roi中与logo图像背景重叠的部分\n",
    "img_bg = cv2.bitwise_and(roi,roi,mask = cropped_mask)\n",
    "\n",
    "# 提取logo图像中的logo部分\n",
    "cropped_logo = logo[y:y+h, x:x+w]\n",
    "logo_fg = cv2.bitwise_and(cropped_logo,cropped_logo,mask = cropped_mask_inv)\n",
    "\n",
    "# 将logo放置在roi中\n",
    "dst = cv2.add(img_bg,logo_fg)\n",
    "img[0:rows, 0:cols ] = dst"
   ]
  },
  {
   "cell_type": "code",
   "execution_count": 124,
   "id": "4c747db1-636a-4179-86cd-1e7e1ce13a77",
   "metadata": {},
   "outputs": [],
   "source": [
    "cv2.imshow('image_logo',img)\n",
    "cv2.waitKey(0)\n",
    "cv2.destroyAllWindows()"
   ]
  },
  {
   "cell_type": "markdown",
   "id": "1da1b041",
   "metadata": {},
   "source": [
    "# 项目：识别漫画的画框"
   ]
  },
  {
   "cell_type": "markdown",
   "id": "2112aac2-aea2-4fc5-b1e5-e43722a03ad6",
   "metadata": {},
   "source": [
    "## cv2.findContours()"
   ]
  },
  {
   "cell_type": "markdown",
   "id": "3c4426d9-fe78-4b72-b60d-58f9b405c4d2",
   "metadata": {},
   "source": [
    "`image, contours, hierarchy = cv2.findContours(image, mode, method)`\n",
    "\n",
    "用于在二值图像中查找物体的轮廓信息。\n",
    "- 二值图像通常经过预处理：对原始图像进行灰度化、滤波、阈值处理等等\n",
    "- 原理：遍历二值图像的每个像素，识别出相邻的、具有相同像素值（通常为白色或黑色）的像素集合，从而确定物体的轮廓。\n",
    "- mode参数\n",
    "    - cv2.RETR_EXTERNAL     表示只检测外轮廓\n",
    "    - cv2.RETR_LIST         检测的轮廓不建立等级关系\n",
    "    - cv2.RETR_CCOMP        建立两个等级的轮廓，上面的一层为外边界，里面的一层为内孔的边界信息。如果内孔内还有一个连通物体，这个物体的边界也在顶层。\n",
    "    - cv2.RETR_TREE         建立一个等级树结构的轮廓。\n",
    "- method参数\n",
    "    - cv2.CHAIN_APPROX_NONE   存储所有的轮廓点，相邻的两个点的像素位置差不超过1，即max（abs（x1-x2），abs（y2-y1））==1\n",
    "    - cv2.CHAIN_APPROX_SIMPLE 压缩水平方向，垂直方向，对角线方向的元素，只保留该方向的终点坐标，例如一个矩形轮廓只需4个点来保存轮廓信息\n",
    "    - cv2.CHAIN_APPROX_TC89_L1，CV_CHAIN_APPROX_TC89_KCOS 使用teh-Chinl chain近似算法\n",
    "- 返回值：\n",
    "    - image：只包含轮廓点的原始尺寸图像，通常不关注\n",
    "    - contours：Python列表，每个元素是一个轮廓坐标点集\n",
    "    - hierarchy：一个包含轮廓层次信息的数组，表示轮廓之间的嵌套关系\n",
    "- 嵌套关系：每个轮廓contours[i]对应4个说明轮廓关系的元素[Next, Previous, First_Child, Parent]\n",
    "    - Next：后一个轮廓的索引编号。\n",
    "    - Previous：前一个轮廓的索引编号。\n",
    "    - First_Child：第 1 个子轮廓的索引编号。\n",
    "    - Parent：父轮廓的索引编号。\n",
    "    - 对应关系为空时，取值-1"
   ]
  },
  {
   "cell_type": "code",
   "execution_count": 2,
   "id": "6bb07a7f-d63d-4a40-a551-9e7e96750261",
   "metadata": {},
   "outputs": [],
   "source": [
    "# 读取图像并转换为灰度图像\n",
    "image = cv2.imread('./dataset/001-22.jpg')\n",
    "gray = cv2.cvtColor(image, cv2.COLOR_BGR2GRAY)\n",
    "img_h,img_w = gray.shape"
   ]
  },
  {
   "cell_type": "code",
   "execution_count": 3,
   "id": "0e29edc3-f823-43c4-8858-83e7f7aa0f73",
   "metadata": {},
   "outputs": [],
   "source": [
    "# 缩小图像尺寸\n",
    "# scale = 1/4\n",
    "# gray_rs = cv2.resize(gray, dsize=None, fx=scale, fy=scale, interpolation=cv2.INTER_LINEAR)\n",
    "# h, w = gray_rs.shape"
   ]
  },
  {
   "cell_type": "code",
   "execution_count": 4,
   "id": "79284fb6-2d49-4c89-a9c9-228e9bad69b3",
   "metadata": {},
   "outputs": [],
   "source": [
    "scale = 0.4\n",
    "cv2.namedWindow('image', cv2.WINDOW_NORMAL) \n",
    "cv2.resizeWindow('image', width=int(img_w*scale), height=int(img_h*scale))\n",
    "cv2.imshow('image',gray)\n",
    "cv2.waitKey(0)\n",
    "cv2.destroyAllWindows()"
   ]
  },
  {
   "cell_type": "code",
   "execution_count": 5,
   "id": "c9f2ac51-5ccd-477f-8225-05dde7e13a55",
   "metadata": {},
   "outputs": [],
   "source": [
    "# 应用阈值处理得到二值图像\n",
    "# 检测对象为白色，背景为黑色\n",
    "_, binary = cv2.threshold(gray, 150, 255, cv2.THRESH_BINARY)"
   ]
  },
  {
   "cell_type": "code",
   "execution_count": 6,
   "id": "adfd4a1e-1d5c-4796-ae4a-8fa41c9da5fa",
   "metadata": {},
   "outputs": [],
   "source": [
    "# 存储图像\n",
    "# cv2.imwrite('./output/ocr_image.jpg', binary)"
   ]
  },
  {
   "cell_type": "code",
   "execution_count": 7,
   "id": "09ae993e-c475-4e2e-b25a-b37dc4c6bf38",
   "metadata": {},
   "outputs": [],
   "source": [
    "# morphological tranformation\n",
    "# kernel = np.ones([3,3], dtype=np.int8)\n",
    "# binary = cv2.morphologyEx(binary, cv2.MORPH_CLOSE, kernel)"
   ]
  },
  {
   "cell_type": "code",
   "execution_count": 8,
   "id": "b58a6cf3-3ff1-40c3-828e-a6752ed28cb2",
   "metadata": {},
   "outputs": [],
   "source": [
    "scale = 0.4\n",
    "cv2.namedWindow('image', cv2.WINDOW_NORMAL) \n",
    "cv2.resizeWindow('image', width=int(img_w*scale), height=int(img_h*scale))\n",
    "cv2.imshow('image',binary)\n",
    "cv2.waitKey(0)\n",
    "cv2.destroyAllWindows()"
   ]
  },
  {
   "cell_type": "code",
   "execution_count": 9,
   "id": "625b994e-d5ed-4448-ae76-2026531cc5df",
   "metadata": {},
   "outputs": [],
   "source": [
    "# 查找所有轮廓，并建立等级关系\n",
    "contours, hierarchy = cv2.findContours(binary, cv2.RETR_TREE, cv2.CHAIN_APPROX_SIMPLE)\n",
    "\n",
    "# 绘制轮廓\n",
    "image_contours = cv2.drawContours(image.copy(), contours, -1, (0, 255, 0), 2)"
   ]
  },
  {
   "cell_type": "code",
   "execution_count": 10,
   "id": "f9687540-6f24-4242-91a1-b6b0e6ef03bd",
   "metadata": {},
   "outputs": [],
   "source": [
    "# 显示结果\n",
    "cv2.namedWindow('Contours', cv2.WINDOW_NORMAL) \n",
    "cv2.resizeWindow('Contours', width=int(img_w*scale), height=int(img_h*scale))\n",
    "cv2.imshow('Contours', image_contours)\n",
    "cv2.waitKey(0)\n",
    "cv2.destroyAllWindows()"
   ]
  },
  {
   "cell_type": "code",
   "execution_count": 11,
   "id": "466f4a0f-cd8e-464a-845c-adf48ae89d65",
   "metadata": {},
   "outputs": [
    {
     "name": "stdout",
     "output_type": "stream",
     "text": [
      "5870\n"
     ]
    }
   ],
   "source": [
    "# 获取轮廓的个数\n",
    "print(len(contours))"
   ]
  },
  {
   "cell_type": "code",
   "execution_count": 12,
   "id": "605cfb26-83f4-4ac9-b0ab-ede27dcd9dbe",
   "metadata": {},
   "outputs": [
    {
     "name": "stdout",
     "output_type": "stream",
     "text": [
      "(5870, 4)\n"
     ]
    }
   ],
   "source": [
    "# 获取轮廓层次关系\n",
    "\n",
    "hierarchy = hierarchy.reshape(-1,4)\n",
    "print(hierarchy.shape)"
   ]
  },
  {
   "cell_type": "code",
   "execution_count": 13,
   "id": "acbdeb8b-ccff-4c41-b946-6b1ed5147b24",
   "metadata": {},
   "outputs": [],
   "source": [
    "# 查找最外层轮廓的子轮廓\n",
    "parent_contour_index = 0\n",
    " \n",
    "# 找到父轮廓并计算面积\n",
    "parent_contour = contours[parent_contour_index]\n",
    " \n",
    "# 遍历所有轮廓，找到子轮廓\n",
    "child_contours = []\n",
    "for i, contour in enumerate(contours):\n",
    "    # 检查轮廓的父轮廓是否是我们要找的那个\n",
    "    if hierarchy[i][3] == parent_contour_index:\n",
    "        x, y, w, h = cv2.boundingRect(contour)\n",
    "        child_contours.append(contour)\n",
    " \n",
    "# 绘制子轮廓\n",
    "contour_img = image.copy()\n",
    "for contour in child_contours:\n",
    "    cv2.drawContours(contour_img, [contour], -1, (0, 255, 0), 2)"
   ]
  },
  {
   "cell_type": "code",
   "execution_count": 14,
   "id": "1c13105b-965c-412c-b3fe-23ae132ebb58",
   "metadata": {},
   "outputs": [
    {
     "name": "stdout",
     "output_type": "stream",
     "text": [
      "99\n"
     ]
    }
   ],
   "source": [
    "print(len(child_contours))"
   ]
  },
  {
   "cell_type": "code",
   "execution_count": 15,
   "id": "a982ddf9-973e-443c-99c7-07ef8b99dc8a",
   "metadata": {},
   "outputs": [],
   "source": [
    "# 显示图像\n",
    "cv2.namedWindow('Contours', cv2.WINDOW_NORMAL) \n",
    "cv2.resizeWindow('Contours', width=int(img_w*scale), height=int(img_h*scale))\n",
    "cv2.imshow('Contours', contour_img)\n",
    "cv2.waitKey(0)\n",
    "cv2.destroyAllWindows()"
   ]
  },
  {
   "cell_type": "markdown",
   "id": "dd9cb8be-e2ef-423b-a06f-6e55cec6352f",
   "metadata": {},
   "source": [
    "## 筛选panels"
   ]
  },
  {
   "cell_type": "markdown",
   "id": "3a9e2dde",
   "metadata": {},
   "source": [
    "### 长宽占比"
   ]
  },
  {
   "cell_type": "code",
   "execution_count": 16,
   "id": "04bd07ed-8371-437f-8ed3-d30fbcab81f5",
   "metadata": {},
   "outputs": [],
   "source": [
    "rects = [] # 存储轮廓最小边框坐标\n",
    "ratio = 1/10 # 定义panels长宽占比\n",
    "for contour in child_contours:\n",
    "    x, y, w, h = cv2.boundingRect(contour)\n",
    "    # 判断是否为panel\n",
    "    if (w < img_w*ratio) or (h < img_h*ratio):\n",
    "        pass\n",
    "    else:\n",
    "        rect = np.array([x, y, w, h])\n",
    "        rects.append(rect)"
   ]
  },
  {
   "cell_type": "code",
   "execution_count": 17,
   "id": "f50efbd8-3ec3-4e42-a849-fd009a13411d",
   "metadata": {},
   "outputs": [],
   "source": [
    "panel_img = image.copy()\n",
    "for i in range(len(rects)):\n",
    "    x, y, w, h = rects[i]\n",
    "    # 在图像上绘制矩形\n",
    "    cv2.rectangle(panel_img, (x, y), (x + w, y + h), (0,0,255), 2)"
   ]
  },
  {
   "cell_type": "code",
   "execution_count": 18,
   "id": "4feed86d-c1ba-47ac-9d73-16fa74346b96",
   "metadata": {},
   "outputs": [
    {
     "name": "stdout",
     "output_type": "stream",
     "text": [
      "5\n"
     ]
    }
   ],
   "source": [
    "print(len(rects))"
   ]
  },
  {
   "cell_type": "code",
   "execution_count": 19,
   "id": "3e224594-30d4-4c3b-bd40-648acbe6f23d",
   "metadata": {},
   "outputs": [],
   "source": [
    "# 显示图像\n",
    "cv2.namedWindow('Contours', cv2.WINDOW_NORMAL) \n",
    "cv2.resizeWindow('Contours', width=int(img_w*scale), height=int(img_h*scale))\n",
    "cv2.imshow('Contours', panel_img)\n",
    "cv2.waitKey(0)\n",
    "cv2.destroyAllWindows()"
   ]
  },
  {
   "cell_type": "code",
   "execution_count": 20,
   "id": "44e3fb01-e35a-40a0-b006-a949666a9f4f",
   "metadata": {},
   "outputs": [],
   "source": [
    "test_img = image.copy()\n",
    "for contour in child_contours:\n",
    "    # 计算轮廓的近似值，epsilon值越大，近似度越高，越接近真实轮廓\n",
    "    epsilon = 10**(-4) * cv2.arcLength(contour, True)\n",
    "    approx = cv2.approxPolyDP(contour, epsilon, True)\n",
    "\n",
    "    # 绘制轮廓\n",
    "    cv2.drawContours(test_img, [approx], 0, (0, 255, 0), 3)"
   ]
  },
  {
   "cell_type": "code",
   "execution_count": 21,
   "id": "a522d3b2-b715-4431-9cc8-90bac3a1d877",
   "metadata": {},
   "outputs": [],
   "source": [
    "# 显示图像\n",
    "cv2.namedWindow('Contours', cv2.WINDOW_NORMAL) \n",
    "cv2.resizeWindow('Contours', width=int(img_w*scale), height=int(img_h*scale))\n",
    "cv2.imshow('Contours', test_img)\n",
    "cv2.waitKey(0)\n",
    "cv2.destroyAllWindows()"
   ]
  },
  {
   "cell_type": "markdown",
   "id": "e215ef40-3d2b-47a8-a543-3693811959dd",
   "metadata": {},
   "source": [
    "### 计算面积占比"
   ]
  },
  {
   "cell_type": "code",
   "execution_count": 22,
   "id": "9c653d82-e563-48b2-9b1b-cdd9c2a84d7a",
   "metadata": {},
   "outputs": [],
   "source": [
    "total_area = cv2.contourArea(parent_contour)\n",
    "threshold_area_ratio = 1/100"
   ]
  },
  {
   "cell_type": "code",
   "execution_count": 23,
   "id": "2735cc3f-6e17-44dd-b9d9-7e9a683ba384",
   "metadata": {},
   "outputs": [],
   "source": [
    "contours = []\n",
    "rects = []\n",
    "for contour in child_contours:\n",
    "    contour_area = cv2.contourArea(contour)\n",
    "    area_ratio = contour_area / total_area\n",
    "    if area_ratio > threshold_area_ratio:\n",
    "        contours.append(contour)\n",
    "        rect = cv2.boundingRect(contour)\n",
    "        rects.append(rect)"
   ]
  },
  {
   "cell_type": "code",
   "execution_count": 24,
   "id": "2efc9181-244b-4c6a-8838-0bde72ac6337",
   "metadata": {},
   "outputs": [
    {
     "name": "stdout",
     "output_type": "stream",
     "text": [
      "5\n"
     ]
    }
   ],
   "source": [
    "print(len(contours))"
   ]
  },
  {
   "cell_type": "code",
   "execution_count": 25,
   "id": "f1150bda-d4d0-45ba-9a9b-4d27e0ae908d",
   "metadata": {},
   "outputs": [],
   "source": [
    "panel_img = image.copy()\n",
    "for i in range(len(rects)):\n",
    "    x, y, w, h = rects[i]\n",
    "    # 在图像上绘制矩形\n",
    "    cv2.rectangle(panel_img, (x, y), (x + w, y + h), (0,0,255), 2)"
   ]
  },
  {
   "cell_type": "code",
   "execution_count": 26,
   "id": "a660c48c-e43c-4163-881b-9201515c6505",
   "metadata": {},
   "outputs": [],
   "source": [
    "# 显示图像\n",
    "cv2.namedWindow('Contours', cv2.WINDOW_NORMAL) \n",
    "cv2.resizeWindow('Contours', width=int(img_w*scale), height=int(img_h*scale))\n",
    "cv2.imshow('Contours', panel_img)\n",
    "cv2.waitKey(0)\n",
    "cv2.destroyAllWindows()"
   ]
  }
 ],
 "metadata": {
  "kernelspec": {
   "display_name": "tf",
   "language": "python",
   "name": "tf"
  },
  "language_info": {
   "codemirror_mode": {
    "name": "ipython",
    "version": 3
   },
   "file_extension": ".py",
   "mimetype": "text/x-python",
   "name": "python",
   "nbconvert_exporter": "python",
   "pygments_lexer": "ipython3",
   "version": "3.8.20"
  }
 },
 "nbformat": 4,
 "nbformat_minor": 5
}
