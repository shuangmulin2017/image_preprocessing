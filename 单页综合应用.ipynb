{
 "cells": [
  {
   "cell_type": "code",
   "execution_count": 1,
   "id": "213a03e5-693e-47e1-8451-84df500951cc",
   "metadata": {},
   "outputs": [],
   "source": [
    "import cv2\n",
    "import os\n",
    "import numpy as np\n",
    "from matplotlib import pyplot as plt"
   ]
  },
  {
   "cell_type": "code",
   "execution_count": 2,
   "id": "b14ab52d-ea77-4ebc-a962-58f61407a2ce",
   "metadata": {},
   "outputs": [],
   "source": [
    "# 读取单页漫画\n",
    "image_path = './dataset/color_comics/001-19.jpg'\n",
    "img = cv2.imread(image_path)"
   ]
  },
  {
   "cell_type": "code",
   "execution_count": 3,
   "id": "6281ab72-58c7-4909-814c-9ebfba17208f",
   "metadata": {},
   "outputs": [],
   "source": [
    "img_h,img_w,_ = img.shape"
   ]
  },
  {
   "cell_type": "markdown",
   "id": "472d1083-fe23-44ba-ac7d-b2ad709c71ab",
   "metadata": {},
   "source": [
    "# 获取panels的坐标"
   ]
  },
  {
   "cell_type": "code",
   "execution_count": 4,
   "id": "bd35575c-32d8-4497-a69a-79aa4076bb9a",
   "metadata": {},
   "outputs": [],
   "source": [
    "def get_top_contours(contours, hierarchy):\n",
    "    \"\"\"\n",
    "    获得顶层轮廓的下标及轮廓信息\n",
    "    :param contours: 所有的轮廓信息列表\n",
    "    :param hierarchy: 对应的轮廓等级信息列表，尺寸为(N,4)\n",
    "    :return top_index, top_contours: 所有父轮廓的下标，轮廓信息\n",
    "    \"\"\"    \n",
    "    top_contour_index = -1\n",
    " \n",
    "    top_contours = []   # 最外层轮廓坐标\n",
    "    top_index = []  # 最外层轮廓索引\n",
    "    for i, contour in enumerate(contours):     # 顶层轮廓没有父轮廓\n",
    "        if hierarchy[i][3] == top_contour_index:\n",
    "            top_contours.append(contour)\n",
    "            top_index.append(i)\n",
    "    \n",
    "    return top_index, top_contours"
   ]
  },
  {
   "cell_type": "code",
   "execution_count": 5,
   "id": "8490a2fd-6f93-4cdf-aa6b-6f943a76a20d",
   "metadata": {},
   "outputs": [],
   "source": [
    "def filterContoursBySize(contours, img_h, img_w, mode=1, ratio=1/10):\n",
    "    \"\"\"\n",
    "    根据轮廓的尺寸筛选符合要求的轮廓\n",
    "    :param contours: 所有轮廓的坐标信息\n",
    "    :param img_h, img_w: 原始BGR图像的高度和宽度\n",
    "    :param mode: _int_ 默认使用长宽or占比方案进行筛选.若值为2，则使用&占比方案;若值为3，则使用面积占比进行筛选\n",
    "    :param ratio: 设置占比比例\n",
    "    :return contours, rects: 筛选后的contours及其对应的最小外界矩形坐标\n",
    "    \"\"\"\n",
    "    total_area = img_h * img_w\n",
    "    filter_contours = []\n",
    "    rects = [] # 存储最小外接矩形\n",
    "\n",
    "    for contour in contours:\n",
    "        x, y, w, h = cv2.boundingRect(contour)\n",
    "        rect = np.array([x, y, w, h])\n",
    "        if mode == 1:\n",
    "            if (w <= img_w*ratio) or (h <= img_h*ratio):\n",
    "                pass\n",
    "            else:\n",
    "                rects.append(rect)\n",
    "                filter_contours.append(contour)\n",
    "        elif mode == 2:\n",
    "            if (w <= img_w*ratio) & (h <= img_h*ratio):\n",
    "                pass\n",
    "            else:\n",
    "                rects.append(rect)\n",
    "                filter_contours.append(contour)\n",
    "        elif mode == 3:\n",
    "            contour_area = cv2.contourArea(contour)\n",
    "            area_ratio = contour_area / total_area\n",
    "            if area_ratio > ratio:\n",
    "                rects.append(rect)\n",
    "                filter_contours.append(contour)\n",
    "            else: \n",
    "                pass\n",
    "    \n",
    "    return filter_contours, rects"
   ]
  },
  {
   "cell_type": "code",
   "execution_count": 6,
   "id": "7fbd911d-3612-4bd1-9467-2a544369184c",
   "metadata": {},
   "outputs": [],
   "source": [
    "def panels(image, read_mode=1, filter_mode=2, ratio=0.1):\n",
    "    \"\"\"\n",
    "    读取image并返回panels的坐标集\n",
    "\n",
    "    Args:\n",
    "        image (_type_): 编码图像\n",
    "        read_mode(_int_): 默认阅读顺序为从左到右。若值为2，则阅读顺序为从右到左\n",
    "        filter_mode(_int_): 默认使用长宽&占比方案进行筛选.若值为1,则使用or占比方案;若值为3，则使用面积占比进行筛选\n",
    "\n",
    "    Returns:\n",
    "        panel_contours: panel的轮廓信息列表 \n",
    "        rects: panel最小外接矩形坐标列表\n",
    "    \"\"\"\n",
    "    \n",
    "    img = np.copy(image)\n",
    "    gray = cv2.cvtColor(img, cv2.COLOR_BGR2GRAY)\n",
    "    threshold = 200\n",
    "\n",
    "    # 应用阈值处理得到二值图像\n",
    "    # 检测对象为白色，背景为黑色\n",
    "    _, binary = cv2.threshold(gray, threshold, 255, cv2.THRESH_BINARY_INV)\n",
    "\n",
    "    img_h,img_w = gray.shape\n",
    "    total_area = img_h * img_w\n",
    "\n",
    "\t# morphological transformation\n",
    "    kernel = np.ones((5,5), np.uint8)\n",
    "    closing = cv2.morphologyEx(binary, cv2.MORPH_CLOSE, kernel) # 去除白色对象中的黑色噪点\n",
    "    gradient = cv2.morphologyEx(closing, cv2.MORPH_GRADIENT, kernel) # 留下白色对象的轮廓\n",
    "\t\n",
    "    binary = gradient\n",
    "\n",
    "    # 查找所有轮廓，并建立等级关系\n",
    "    contours, hierarchy = cv2.findContours(binary, cv2.RETR_TREE, cv2.CHAIN_APPROX_SIMPLE)\n",
    "    hierarchy = hierarchy.reshape(-1, 4) # reshape hierarchy\n",
    "\n",
    "    # 查找所有的最外层轮廓\n",
    "    top_index, top_contours = get_top_contours(contours, hierarchy)\n",
    "    \n",
    "    # 根据长宽占比筛选符合要求的panel\n",
    "    panel_contours, rects = filterContoursBySize(top_contours, img_h, img_w, filter_mode, ratio)\n",
    "\n",
    "    # 根据阅读顺序重新排序panels列表\n",
    "    sorted_panel_contours = []\n",
    "    sorted_rects = []\n",
    "\n",
    "    if(read_mode==1):\n",
    "        sorted_index_rects = sorted(enumerate(rects), key=lambda x: (x[1][1], x[1][0])) # 按照y,x从小到大排序\n",
    "        for index, value in sorted_index_rects:\n",
    "            sorted_panel_contours.append(panel_contours[index])\n",
    "            sorted_rects.append(value)\n",
    "    else:\n",
    "        sorted_index_rects = sorted(enumerate(rects), key=lambda x: (x[1][1], -x[1][0])) # 按照y从小到大, x从大到小\n",
    "        for index, value in sorted_index_rects:\n",
    "            sorted_panel_contours.append(panel_contours[index])\n",
    "            sorted_rects.append(value)\n",
    "                            \n",
    "    return sorted_panel_contours, sorted_rects"
   ]
  },
  {
   "cell_type": "code",
   "execution_count": 7,
   "id": "f8355acf-7907-4ef0-a6a5-deacb5fe7108",
   "metadata": {},
   "outputs": [],
   "source": [
    "# panel特征提取\n",
    "panel_contours, rects = panels(img) # 坐标"
   ]
  },
  {
   "cell_type": "code",
   "execution_count": 8,
   "id": "df0006f6-805c-40d1-9a33-9430df32ecf1",
   "metadata": {},
   "outputs": [],
   "source": [
    "def drawPanels(rects, image):\n",
    "    \"\"\"\n",
    "    绘制image的panels边框\n",
    "    :param rects: panels的边框信息\n",
    "    :param image: 待绘制的image\n",
    "    :return: image\n",
    "    \"\"\"\n",
    "    img = np.copy(image)\n",
    "\n",
    "    for i in range(len(rects)):\n",
    "        x, y, w, h = rects[i]\n",
    "        # 在图像上绘制矩形\n",
    "        cv2.rectangle(img, (x, y), (x + w, y + h), (0,0,255), 10)\n",
    "    \n",
    "    return img"
   ]
  },
  {
   "cell_type": "code",
   "execution_count": 9,
   "id": "7496a2a7-966d-4e1e-98be-c39d110a8634",
   "metadata": {},
   "outputs": [],
   "source": [
    "# 绘制并存储验证图像\n",
    "panel_image = drawPanels(rects, img)"
   ]
  },
  {
   "cell_type": "code",
   "execution_count": 10,
   "id": "ba1da457-32a2-48b3-be88-b80e126c0918",
   "metadata": {},
   "outputs": [],
   "source": [
    "# 显示图像\n",
    "cv2.namedWindow('Panels', cv2.WINDOW_NORMAL) \n",
    "cv2.resizeWindow('Panels', width=int(img_w*0.4), height=int(img_h*0.4))\n",
    "cv2.imshow('Panels', panel_image)\n",
    "cv2.waitKey(0)\n",
    "cv2.destroyAllWindows()"
   ]
  },
  {
   "cell_type": "code",
   "execution_count": null,
   "id": "b689084e-e165-4088-8ac4-9799f368a528",
   "metadata": {},
   "outputs": [],
   "source": []
  },
  {
   "cell_type": "markdown",
   "id": "1156b5a6-3af3-47ad-a5a1-31dcdccd89d3",
   "metadata": {},
   "source": [
    "# 获取bubble的坐标"
   ]
  },
  {
   "cell_type": "code",
   "execution_count": 227,
   "id": "61f15c80-db5a-42cd-8d83-0703d4491e97",
   "metadata": {},
   "outputs": [],
   "source": [
    "def shrinkByPixels(img, rect, pixels=0):\n",
    "    \"\"\"\n",
    "    crop image by rect coordinates & removing some pixels\n",
    "    \"\"\"\n",
    "    image = img.copy()\n",
    "    img_h, img_w, _ = img.shape\n",
    "\n",
    "    x, y, w, h = rect\n",
    "    y_min = max(y-pixels, 0)\n",
    "    y_max = min(y+h+pixels, img_h)\n",
    "    x_min = max(x-pixels, 0)\n",
    "    x_max = min(x+w+pixels, img_w)\n",
    "    roi_image = image[y_min:y_max, x_min:x_max]\n",
    "    roi_rect = [x_min, y_min, (x_max-x_min), (y_max-y_min)]\n",
    "\n",
    "    return roi_image, roi_rect"
   ]
  },
  {
   "cell_type": "code",
   "execution_count": 228,
   "id": "0e211a28-819b-47e2-9623-2af7a334381e",
   "metadata": {},
   "outputs": [],
   "source": [
    "def create_roi_image(img, contour, pixels=0):\n",
    "    \"\"\"\n",
    "    提取给定轮廓信息的ROI\n",
    "    :param img: BGR编码的image图像\n",
    "    :param contour: 轮廓信息\n",
    "    :return roi_image: BGR编码的roi图像\n",
    "    \"\"\"\n",
    "    image = img.copy()\n",
    "\n",
    "    # 创建img的一个全黑掩模\n",
    "    h, w, _ = image.shape # 获取高度,宽度\n",
    "    mask = np.zeros((h, w), dtype=np.uint8)\n",
    " \n",
    "    # 在掩模上绘制所有轮廓并填充为白色（ROI）\n",
    "    cv2.drawContours(mask, [contour], -1, 255, thickness=-1)\n",
    " \n",
    "    # 分割ROI区域\n",
    "    roi = cv2.bitwise_and(image, image, mask=mask)\n",
    "    rect = cv2.boundingRect(contour)\n",
    "    roi_image, roi_rect = shrinkByPixels(roi, rect, pixels)\n",
    "    \n",
    "    return roi_image, roi_rect"
   ]
  },
  {
   "cell_type": "code",
   "execution_count": 229,
   "id": "9c53651e-cd5c-427d-96b5-b137e876ff8b",
   "metadata": {},
   "outputs": [],
   "source": [
    "def create_roi_panels(img, panel_contours, pixels=0):\n",
    "    \"\"\"\n",
    "    提取给定panel轮廓信息的ROI图像列表\n",
    "    :param img: BGR编码的image图像\n",
    "    :param panel_contours: panel轮廓信息列表\n",
    "    :return roi_panels, roi_panel_rects: BGR编码的切割panel列表,panel在原始图像中的坐标信息 \n",
    "    \"\"\"\n",
    "    image = img.copy()\n",
    "    roi_panels = [] # 存储列表\n",
    "    roi_panel_rects = [] # 坐标列表\n",
    "\n",
    "    for contour in panel_contours:\n",
    "        roi_panel, roi_panel_rect = create_roi_image(image, contour, pixels)\n",
    "        roi_panels.append(roi_panel)\n",
    "        roi_panel_rects.append(roi_panel_rect)\n",
    "\n",
    "    return roi_panels, roi_panel_rects"
   ]
  },
  {
   "cell_type": "code",
   "execution_count": 230,
   "id": "53b59ae7-c984-4389-b740-f8a9585f59fe",
   "metadata": {},
   "outputs": [],
   "source": [
    "def get_child_contours(contours, hierarchy, parent_index):\n",
    "    \"\"\"\n",
    "    获得指定父轮廓的子轮廓\n",
    "    :param contours: 所有的轮廓信息列表\n",
    "    :param hierarchy: 对应的轮廓等级信息列表\n",
    "    :param parent_index: 父轮廓对应的下标\n",
    "    :return child_index, child_contours: 所有子轮廓的下标，轮廓信息\n",
    "    \"\"\"\n",
    "\n",
    "    child_contours = []\n",
    "    child_index = []\n",
    "\n",
    "    for i in parent_index:\n",
    "        for j, contour in enumerate(contours):\n",
    "        # 存储二级轮廓的所有子轮廓\n",
    "            if hierarchy[j][3] == i:\n",
    "                child_contours.append(contour)\n",
    "                child_index.append(j)\n",
    "    \n",
    "    return child_index, child_contours"
   ]
  },
  {
   "cell_type": "code",
   "execution_count": 231,
   "id": "a72a9636-802a-48a2-87f6-b390678520a1",
   "metadata": {},
   "outputs": [],
   "source": [
    "def compute_grayscale_ratio(roi_image, lower_bound, upper_bound):\n",
    "    \"\"\"\n",
    "    给定一个灰度值范围，计算范围内的像素点占比\n",
    "    :param roi_image: 仅包含ROI区域的bgr图像\n",
    "    :return background_ratio: 像素点占比\n",
    "    \"\"\"\n",
    "    \n",
    "    # 转换为灰度图像\n",
    "    gray = cv2.cvtColor(roi_image, cv2.COLOR_BGR2GRAY)\n",
    "    \n",
    "    total_pixels = gray.size # roi_image的总像素\n",
    "    \n",
    "    thresholded_image = cv2.inRange(gray, lower_bound, upper_bound)\n",
    "\n",
    "    # 统计符合条件的像素数量\n",
    "    thresholded_pixels = np.sum(thresholded_image == 255)\n",
    "    \n",
    "    return round(thresholded_pixels/total_pixels, 2)"
   ]
  },
  {
   "cell_type": "code",
   "execution_count": 232,
   "id": "7b0d5fe7-70fc-4edd-b471-0f391f29ebfc",
   "metadata": {},
   "outputs": [],
   "source": [
    "def filterContoursByGray(img, contours, lower_bound, upper_bound, ratio=0.3):\n",
    "    \"\"\"\n",
    "    通过灰度值占比筛选轮廓\n",
    "    :param img: 原始BGR图像\n",
    "    :param contours: 所有轮廓的坐标信息\n",
    "    :param lower_bound: 最小灰度值\n",
    "    :param upper_bound: 最大灰度值\n",
    "    :param ratio: 筛选区域所占最小像素比\n",
    "    :return contours, rects: 筛选后的contours及其对应的最小外界矩形坐标\n",
    "    \"\"\"\n",
    "\n",
    "    filter_contours = [] # 存储轮廓的坐标\n",
    "    rects = [] # 存储最小外接矩形坐标\n",
    "    for i, contour in enumerate(contours):\n",
    "        roi_image, roi_image_rect = create_roi_image(img, contour)\n",
    "        grayscale_ratio = compute_grayscale_ratio(roi_image, lower_bound, upper_bound)\n",
    "        if grayscale_ratio >= ratio:\n",
    "            # print(f\"index: {i}, white_ratio: {grayscale_ratio}\")\n",
    "            filter_contours.append(contour)\n",
    "            rect = cv2.boundingRect(contour)\n",
    "            rects.append(rect)\n",
    "    \n",
    "    return filter_contours, rects"
   ]
  },
  {
   "cell_type": "code",
   "execution_count": 233,
   "id": "3e717d78-b8d4-4d85-83a8-6f82d4e04807",
   "metadata": {},
   "outputs": [],
   "source": [
    "from paddleocr import PaddleOCR"
   ]
  },
  {
   "cell_type": "code",
   "execution_count": 234,
   "id": "1fbdc332-2b96-4f1d-b662-37e44afda574",
   "metadata": {},
   "outputs": [
    {
     "name": "stdout",
     "output_type": "stream",
     "text": [
      "[2025/01/14 03:39:41] ppocr DEBUG: Namespace(alpha=1.0, alphacolor=(255, 255, 255), benchmark=False, beta=1.0, binarize=False, cls_batch_num=6, cls_image_shape='3, 48, 192', cls_model_dir='C:\\\\Users\\\\lin kexiu/.paddleocr/whl\\\\cls\\\\ch_ppocr_mobile_v2.0_cls_infer', cls_thresh=0.9, cpu_threads=10, crop_res_save_dir='./output', det=True, det_algorithm='DB', det_box_type='quad', det_db_box_thresh=0.6, det_db_score_mode='fast', det_db_thresh=0.3, det_db_unclip_ratio=1.5, det_east_cover_thresh=0.1, det_east_nms_thresh=0.2, det_east_score_thresh=0.8, det_limit_side_len=960, det_limit_type='max', det_model_dir='C:\\\\Users\\\\lin kexiu/.paddleocr/whl\\\\det\\\\ch\\\\ch_PP-OCRv4_det_infer', det_pse_box_thresh=0.85, det_pse_min_area=16, det_pse_scale=1, det_pse_thresh=0, det_sast_nms_thresh=0.2, det_sast_score_thresh=0.5, draw_img_save_dir='./inference_results', drop_score=0.5, e2e_algorithm='PGNet', e2e_char_dict_path='./ppocr/utils/ic15_dict.txt', e2e_limit_side_len=768, e2e_limit_type='max', e2e_model_dir=None, e2e_pgnet_mode='fast', e2e_pgnet_score_thresh=0.5, e2e_pgnet_valid_set='totaltext', enable_mkldnn=False, formula=False, formula_algorithm='LaTeXOCR', formula_batch_num=1, formula_char_dict_path=None, formula_model_dir=None, fourier_degree=5, gpu_id=0, gpu_mem=500, help='==SUPPRESS==', image_dir=None, image_orientation=False, invert=False, ir_optim=True, kie_algorithm='LayoutXLM', label_list=['0', '180'], lang='ch', layout=True, layout_dict_path=None, layout_model_dir=None, layout_nms_threshold=0.5, layout_score_threshold=0.5, max_batch_size=10, max_text_length=25, merge_no_span_structure=True, min_subgraph_size=15, mode='structure', ocr=True, ocr_order_method=None, ocr_version='PP-OCRv4', output='./output', page_num=0, precision='fp32', process_id=0, re_model_dir=None, rec=True, rec_algorithm='SVTR_LCNet', rec_batch_num=6, rec_char_dict_path='D:\\\\anaconda\\\\envs\\\\tf\\\\lib\\\\site-packages\\\\paddleocr\\\\ppocr\\\\utils\\\\ppocr_keys_v1.txt', rec_image_inverse=True, rec_image_shape='3, 48, 320', rec_model_dir='C:\\\\Users\\\\lin kexiu/.paddleocr/whl\\\\rec\\\\ch\\\\ch_PP-OCRv4_rec_infer', recovery=False, recovery_to_markdown=False, return_word_box=False, save_crop_res=False, save_log_path='./log_output/', savefile=False, scales=[8, 16, 32], ser_dict_path='../train_data/XFUND/class_list_xfun.txt', ser_model_dir=None, show_log=True, sr_batch_num=1, sr_image_shape='3, 32, 128', sr_model_dir=None, structure_version='PP-StructureV2', table=True, table_algorithm='TableAttn', table_char_dict_path=None, table_max_len=488, table_model_dir=None, total_process_num=1, type='ocr', use_angle_cls=True, use_dilation=False, use_gpu=False, use_mlu=False, use_mp=False, use_npu=False, use_onnx=False, use_pdf2docx_api=False, use_pdserving=False, use_space_char=True, use_tensorrt=False, use_visual_backbone=True, use_xpu=False, vis_font_path='./doc/fonts/simfang.ttf', warmup=False)\n"
     ]
    }
   ],
   "source": [
    "# 初始化PaddleOCR\n",
    "ocr = PaddleOCR(use_angle_cls=True, lang='ch')"
   ]
  },
  {
   "cell_type": "code",
   "execution_count": 235,
   "id": "fadad56f-017a-4b72-9180-b35cd7fe4877",
   "metadata": {},
   "outputs": [],
   "source": [
    "def filterBubblesByText(img, contours, rects, text_direction=1, confidence_threshold=0.5):\n",
    "    \"\"\"\n",
    "    通过是否包含文字筛选对话框\n",
    "    :param img: roi_panel的灰度图像\n",
    "    :param contours: bubble的轮廓信息\n",
    "    :param rects: bubble的最小外接矩形坐标信息\n",
    "    :param text_direction: 文字方向默认为横向。若为2,则为竖向\n",
    "    :param confidence_threshold: 文字识别置信度阈值\n",
    "    :return bubble_texts, bubble_rects, bubble_contours: 对话框文字列表,筛选对话框坐标及轮廓信息\n",
    "    \"\"\"\n",
    "    panel = img.copy()\n",
    "    panel_gray = cv2.cvtColor(panel, cv2.COLOR_BGR2GRAY)\n",
    "    if text_direction == 2:\n",
    "        panel_gray = cv2.rotate(panel_gray, cv2.ROTATE_90_COUNTERCLOCKWISE)  # 逆时针旋转90度\n",
    "    \n",
    "    bubble_texts = []\n",
    "    bubble_rects = []\n",
    "    bubble_contours = []\n",
    "    for i in range(len(rects)):\n",
    "        x, y, w, h = rects[i]\n",
    "        bubble_gray = panel_gray[y:y+h, x:x+w]\n",
    "        result = ocr.ocr(bubble_gray, cls=True)\n",
    "        result = result[0]\n",
    "        if result is not None:\n",
    "            bubble_rects.append(rects[i])\n",
    "            bubble_contours.append(contours[i])\n",
    "            text_result = []\n",
    "            for line in result:\n",
    "                text = line[1][0]\n",
    "                confidence = line[1][1]\n",
    "                if confidence > confidence_threshold:\n",
    "                    text_result.append(text)\n",
    "            text = \"\".join(text_result)\n",
    "            bubble_texts.append(text)      \n",
    "\n",
    "    return bubble_texts, bubble_rects, bubble_contours"
   ]
  },
  {
   "cell_type": "code",
   "execution_count": 236,
   "id": "a2b923fe-4144-40b5-9b51-d43a61c7e227",
   "metadata": {},
   "outputs": [],
   "source": [
    "def panel_findSpeechBubbles(panelImg, mode=1, read_mode=1):\n",
    "    \"\"\"\n",
    "    Find all speech bubbles in the given comic panel and return a list of their contours\n",
    "    :param panelImg: given comic panel\n",
    "    :param mode: 筛选bubble的条件\n",
    "    :param read_mode(_int_): 默认文字阅读顺序为从左到右。若值为2，则阅读顺序为从右到左\n",
    "    :return bubble_contours, bubble_rects: a list of speech bubbles \n",
    "    \"\"\"\n",
    "    image = panelImg.copy()\n",
    "\n",
    "    # 转换为灰度图像\n",
    "    gray = cv2.cvtColor(image, cv2.COLOR_BGR2GRAY)\n",
    "    img_h,img_w = gray.shape\n",
    "\n",
    "    # 应用阈值处理得到二值图像\n",
    "    _, binary = cv2.threshold(gray, 200, 255, cv2.THRESH_BINARY)    # 默认对话框背景为白色，字体为深色\n",
    "\n",
    "    # 去除黑色背景里的白色噪点\n",
    "    kernel = np.ones((5,5), np.uint8)\n",
    "    opening = cv2.morphologyEx(binary, cv2.MORPH_OPEN, kernel)\n",
    "\n",
    "    # 保留白色前景的轮廓\n",
    "    kernel = np.ones((5,5), np.uint8)\n",
    "    gradient = cv2.morphologyEx(opening, cv2.MORPH_GRADIENT, kernel)\n",
    "\n",
    "    binary = gradient\n",
    "\n",
    "    # 查找所有轮廓，并建立等级关系\n",
    "    contours, hierarchy = cv2.findContours(binary, cv2.RETR_TREE, cv2.CHAIN_APPROX_SIMPLE)\n",
    "    if hierarchy is None:\n",
    "        bubble_contours = []\n",
    "        bubble_rects = []\n",
    "    else:\n",
    "        hierarchy = hierarchy.reshape(-1,4)\n",
    "\n",
    "        # 按照尺寸筛选所有的二级轮廓\n",
    "        top_index, top_contours = get_top_contours(contours, hierarchy)\n",
    "        child_index, child_contours = get_child_contours(contours, hierarchy, top_index)\n",
    "\n",
    "        contours, rects = filterContoursBySize(child_contours, img_h, img_w, mode, ratio=1/15)\n",
    "\n",
    "        # 通过颜色检测进一步筛选轮廓得到对话框\n",
    "        bubble_contours, bubble_rects = filterContoursByGray(image, contours, 230, 255, ratio=0.3)\n",
    "\n",
    "    sorted_bubble_contours = []\n",
    "    sorted_bubble_rects = []\n",
    "    if(read_mode==1):\n",
    "        sorted_index_rects = sorted(enumerate(bubble_rects), key=lambda x: (x[1][0], x[1][1])) # 按照x,y从小到大排序\n",
    "        for index, value in sorted_index_rects:\n",
    "            sorted_bubble_contours.append(bubble_contours[index])\n",
    "            sorted_bubble_rects.append(value)\n",
    "    else:\n",
    "        sorted_index_rects = sorted(enumerate(bubble_rects), key=lambda x: (-x[1][0], x[1][1])) # 按照x从大到小,y从小到大排序\n",
    "        for index, value in sorted_index_rects:\n",
    "            sorted_bubble_contours.append(bubble_contours[index])\n",
    "            sorted_bubble_rects.append(value)\n",
    "\n",
    "    return sorted_bubble_contours, sorted_bubble_rects"
   ]
  },
  {
   "cell_type": "code",
   "execution_count": 237,
   "id": "bf53a5f9-73bd-4540-bb48-b9197e13ccf1",
   "metadata": {},
   "outputs": [],
   "source": [
    "def create_roi_not_bubble(panel, bubble_contours):\n",
    "    \"\"\"\n",
    "    提取给定轮廓信息的ROI\n",
    "    :param panel: BGR编码的panel图像\n",
    "    :param bubble_contours: bubble轮廓信息\n",
    "    :return roi_not_bubble: BGR编码的roi图像\n",
    "    \"\"\"\n",
    "    image = panel.copy()\n",
    "\n",
    "    h, w, _ = image.shape # 获取高度,宽度\n",
    "    # 创建一个全白的掩膜，注意这里的图像类型是uint8，所以是255\n",
    "    mask = np.ones((h, w), dtype=np.uint8) * 255\n",
    " \n",
    "    # 在掩模上绘制所有轮廓并填充为黑色（ROI）\n",
    "    for contour in bubble_contours:\n",
    "        cv2.drawContours(mask, [contour], -1, 0, thickness=-1)\n",
    " \n",
    "    roi_not_bubble = cv2.bitwise_and(image, image, mask=mask)\n",
    "    \n",
    "    return roi_not_bubble"
   ]
  },
  {
   "cell_type": "code",
   "execution_count": 251,
   "id": "ed25278f-d61e-49d1-a595-763bcef496bc",
   "metadata": {},
   "outputs": [],
   "source": [
    "def panel_getBackgroundText(panel, confidence_threshold=0.5):\n",
    "    \"\"\"\n",
    "    :param panel: 去除对话框的BGR panel图像\n",
    "    :param confidence_threshold: 识别文字置信度阈值\n",
    "    :return background_texts: 背景文字\n",
    "    \"\"\"\n",
    "    image = panel.copy()\n",
    "    panel_gray = cv2.cvtColor(image, cv2.COLOR_BGR2GRAY)\n",
    "    \n",
    "    background_texts = []\n",
    "    result = ocr.ocr(panel, cls=True)\n",
    "    result = result[0]\n",
    "    if result is not None:\n",
    "        texts = []\n",
    "        for line in result:\n",
    "            text = line[1][0]\n",
    "            confidence = line[1][1]\n",
    "            if confidence > confidence_threshold:\n",
    "                texts.append(text)\n",
    "        background_text = \"\".join(texts)\n",
    "        background_texts.append(background_text)\n",
    "\n",
    "    return background_texts"
   ]
  },
  {
   "cell_type": "code",
   "execution_count": 255,
   "id": "c7260fc3-ce26-4f9e-97e4-adda61376be5",
   "metadata": {},
   "outputs": [],
   "source": [
    "def comic_findSpeechBubbles(img, panel_contours, pixels=10, read_mode=1, text_direction=1, mode=1, confidence_threshold=0.5):\n",
    "    \"\"\"\n",
    "    Find all speech bubbles in the given comic page and return a list of their contours\n",
    "    :param img: 原始BGR编码图像\n",
    "    :param panel_contours: 图像对应的panel轮廓信息\n",
    "    :param pixels: 切割panel时向外移动的像素点\n",
    "    :param read_mode(_int_): 默认文字阅读顺序为从左到右。若值为2，则阅读顺序为从右到左\n",
    "    :param text_direction(_int_): 默认文字方向为横向。若值为2，则文字为竖向\n",
    "    :param mode: 筛选bubble的条件\n",
    "    :param confidence_threshold: 文字识别的置信度阈值\n",
    "    :return page_bubbles: a dict of speech bubbles {[bubble_texts], [background_texts], [bubble_rects], [bubble_nums]}\n",
    "    \"\"\"\n",
    "    image = img.copy()\n",
    "    page_bubbles = {\n",
    "        \"bubble_texts\": [],\n",
    "        \"background_texts\": [],\n",
    "        \"bubble_rects\": [],\n",
    "        \"bubble_nums\": []\n",
    "    } # 漫画页的bubble信息\n",
    "\n",
    "    roi_panels, roi_panel_rects = create_roi_panels(image, panel_contours, pixels) # 原始尺寸的panels掩码列表\n",
    "\n",
    "    for i, roi_panel in enumerate(roi_panels):\n",
    "        bubble_contours, bubble_rects = panel_findSpeechBubbles(roi_panel, mode, read_mode)\n",
    "\n",
    "        # 还原bubble_rects\n",
    "        if bubble_rects is None:\n",
    "            pass\n",
    "        else:\n",
    "            bubble_texts, bubble_rects, bubble_contours = filterBubblesByText(roi_panel, bubble_contours, bubble_rects, \n",
    "                                                                              text_direction, confidence_threshold)\n",
    "            raw_bubble_rects = []\n",
    "            panel_x, panel_y, panel_w, panel_h = roi_panel_rects[i]\n",
    "            for bubble_rect in bubble_rects:\n",
    "                bubble_x, bubble_y, bubble_w, bubble_h = bubble_rect\n",
    "                bubble_x = bubble_x + panel_x\n",
    "                bubble_y = bubble_y + panel_y\n",
    "                raw_bubble_rect = [bubble_x, bubble_y, bubble_w, bubble_h]\n",
    "                raw_bubble_rects.append(raw_bubble_rect)\n",
    "\n",
    "            not_bubble_image = create_roi_not_bubble(roi_panel, bubble_contours)\n",
    "            background_texts = panel_getBackgroundText(not_bubble_image, confidence_threshold)\n",
    "            \n",
    "\n",
    "        page_bubbles[\"bubble_texts\"].append(bubble_texts)\n",
    "        page_bubbles[\"background_texts\"].append(background_texts)\n",
    "        page_bubbles[\"bubble_rects\"].append(raw_bubble_rects)\n",
    "        page_bubbles[\"bubble_nums\"].append(len(bubble_rects))\n",
    "    \n",
    "    return page_bubbles"
   ]
  },
  {
   "cell_type": "code",
   "execution_count": 252,
   "id": "5b4e4535-6d8b-49d6-990e-9f1a7c93547f",
   "metadata": {},
   "outputs": [
    {
     "name": "stdout",
     "output_type": "stream",
     "text": [
      "[2025/01/14 03:48:35] ppocr DEBUG: dt_boxes num : 16, elapsed : 0.343947172164917\n",
      "[2025/01/14 03:48:36] ppocr DEBUG: cls num  : 16, elapsed : 0.15780305862426758\n",
      "[2025/01/14 03:48:36] ppocr DEBUG: rec_res num  : 16, elapsed : 0.5913879871368408\n",
      "[2025/01/14 03:48:37] ppocr DEBUG: dt_boxes num : 88, elapsed : 0.552584171295166\n",
      "[2025/01/14 03:48:37] ppocr DEBUG: cls num  : 88, elapsed : 0.20780467987060547\n",
      "[2025/01/14 03:48:39] ppocr DEBUG: rec_res num  : 88, elapsed : 1.5403199195861816\n",
      "[2025/01/14 03:48:39] ppocr DEBUG: dt_boxes num : 3, elapsed : 0.3159821033477783\n",
      "[2025/01/14 03:48:39] ppocr DEBUG: cls num  : 3, elapsed : 0.06707477569580078\n",
      "[2025/01/14 03:48:39] ppocr DEBUG: rec_res num  : 3, elapsed : 0.15576863288879395\n",
      "[2025/01/14 03:48:39] ppocr DEBUG: dt_boxes num : 0, elapsed : 0.32787346839904785\n",
      "[2025/01/14 03:48:39] ppocr DEBUG: cls num  : 0, elapsed : 0\n",
      "[2025/01/14 03:48:39] ppocr DEBUG: rec_res num  : 0, elapsed : 0.0\n",
      "[2025/01/14 03:48:40] ppocr DEBUG: dt_boxes num : 0, elapsed : 0.14856958389282227\n",
      "[2025/01/14 03:48:40] ppocr DEBUG: cls num  : 0, elapsed : 0\n",
      "[2025/01/14 03:48:40] ppocr DEBUG: rec_res num  : 0, elapsed : 0.0\n",
      "[2025/01/14 03:48:40] ppocr DEBUG: dt_boxes num : 0, elapsed : 0.6201882362365723\n",
      "[2025/01/14 03:48:40] ppocr DEBUG: cls num  : 0, elapsed : 0\n",
      "[2025/01/14 03:48:40] ppocr DEBUG: rec_res num  : 0, elapsed : 0.0\n",
      "[2025/01/14 03:48:41] ppocr DEBUG: dt_boxes num : 4, elapsed : 0.5150711536407471\n",
      "[2025/01/14 03:48:41] ppocr DEBUG: cls num  : 4, elapsed : 0.07412362098693848\n",
      "[2025/01/14 03:48:41] ppocr DEBUG: rec_res num  : 4, elapsed : 0.22787880897521973\n",
      "[2025/01/14 03:48:41] ppocr DEBUG: dt_boxes num : 2, elapsed : 0.2692835330963135\n",
      "[2025/01/14 03:48:41] ppocr DEBUG: cls num  : 2, elapsed : 0.09262919425964355\n",
      "[2025/01/14 03:48:42] ppocr DEBUG: rec_res num  : 2, elapsed : 0.1755082607269287\n",
      "[2025/01/14 03:48:42] ppocr DEBUG: dt_boxes num : 5, elapsed : 0.6551344394683838\n",
      "[2025/01/14 03:48:42] ppocr DEBUG: cls num  : 5, elapsed : 0.0730583667755127\n",
      "[2025/01/14 03:48:43] ppocr DEBUG: rec_res num  : 5, elapsed : 0.24846553802490234\n"
     ]
    }
   ],
   "source": [
    "# bubble特征提取（粒度panel）\n",
    "page_bubbles = comic_findSpeechBubbles(img, panel_contours, pixels=10, mode=1)\n",
    "bubble_texts_list = page_bubbles[\"bubble_texts\"]\n",
    "background_texts_list =page_bubbles[\"background_texts\"]\n",
    "bubble_rects_list =page_bubbles[\"bubble_rects\"]\n",
    "bubble_nums_list = page_bubbles[\"bubble_nums\"]"
   ]
  },
  {
   "cell_type": "code",
   "execution_count": 253,
   "id": "ec82d876-c24a-43f6-bb1e-3ed9e2cb6d1b",
   "metadata": {},
   "outputs": [
    {
     "data": {
      "text/plain": [
       "[['不老七心热道领百依化放睛则迎事写的是《太上人物室退选欲认出精不是求活感应篇》道长力字的风骨奇特，笔梢落处竟然隐人胎隐有金石之意..成破'],\n",
       " ['还真有些道门符道大家的手段..'],\n",
       " ['，符道大家他们一生寞凝天地气息之间..', '您是说神符！？']]"
      ]
     },
     "execution_count": 253,
     "metadata": {},
     "output_type": "execute_result"
    }
   ],
   "source": [
    "bubble_texts_list"
   ]
  },
  {
   "cell_type": "code",
   "execution_count": 254,
   "id": "becaaf8b-2471-427f-a595-b135ffa1cced",
   "metadata": {},
   "outputs": [
    {
     "data": {
      "text/plain": [
       "[['不老像道百事做過大刚香能小则不当向背乘宜之目冠神亦然凡人天曾言人罪過月路每到庆中日题称三尸种在人身中人罪恶拿具斗愿迅之愿星买之算香悉之利离随之吉太花人避之是道种君在人頭自台善遥之银上回為福無門推求長天小百算又天地石上站上第善有为成神仙可发有铁段人成不仁很自無城先生板真西良善暗海品助清理而立三百善药百善欲求地仙退之种雪街昌人银興人不迅将一父窕若袍&元玫许人肾破同君教用親学事親害行成'],\n",
       " [],\n",
       " ['世上亿万人众，符道大家也不过十数人…他们一生冥想苦修方能凝天地气息于金钩银划之间..']]"
      ]
     },
     "execution_count": 254,
     "metadata": {},
     "output_type": "execute_result"
    }
   ],
   "source": [
    "background_texts_list"
   ]
  },
  {
   "cell_type": "markdown",
   "id": "959ad649-c8ab-4574-ba35-5845f174bb68",
   "metadata": {},
   "source": [
    "# 测试代码"
   ]
  },
  {
   "cell_type": "markdown",
   "id": "1fb9171b-c54f-4a39-828f-97b08675dd95",
   "metadata": {},
   "source": [
    "## 测试代码：panels掩膜可视化"
   ]
  },
  {
   "cell_type": "code",
   "execution_count": 24,
   "id": "c640dbc6-1853-4e16-a9aa-1fc89a87fcf9",
   "metadata": {},
   "outputs": [],
   "source": [
    "roi_panels, roi_panel_rects = create_roi_panels(img, panel_contours, pixels=10) # 原始尺寸的panels掩码列表"
   ]
  },
  {
   "cell_type": "code",
   "execution_count": 25,
   "id": "adfeb73e-55d5-4851-9a43-fd6da82d4315",
   "metadata": {},
   "outputs": [],
   "source": [
    "# 验证roi_panel_rects能够还原panel坐标\n",
    "x, y, w, h = roi_panel_rects[0]\n",
    "roi_image = img[y:y+h, x:x+w]"
   ]
  },
  {
   "cell_type": "code",
   "execution_count": 26,
   "id": "3b59aa9b-ca49-46d7-a1f0-5c890bfa6937",
   "metadata": {},
   "outputs": [],
   "source": [
    "# 显示图像\n",
    "cv2.namedWindow('Panels', cv2.WINDOW_NORMAL) \n",
    "cv2.resizeWindow('Panels', width=int(img_w*0.4), height=int(img_h*0.4))\n",
    "cv2.imshow('Panels', roi_image)\n",
    "cv2.waitKey(0)\n",
    "cv2.imshow('Panels', roi_panels[0])\n",
    "cv2.waitKey(0)\n",
    "cv2.destroyAllWindows()"
   ]
  },
  {
   "cell_type": "markdown",
   "id": "df8a932c-6999-45e1-9994-2b7017aba302",
   "metadata": {},
   "source": [
    "## 测试代码: 筛选文字bubble"
   ]
  },
  {
   "cell_type": "code",
   "execution_count": 27,
   "id": "2a231197-f818-4ad4-8600-c66c0eb04d92",
   "metadata": {},
   "outputs": [],
   "source": [
    "for i, roi_panel in enumerate(roi_panels):\n",
    "    bubble_contours, bubble_rects = panel_findSpeechBubbles(roi_panel, mode=1)\n",
    "    # bubble_text_list, bubble_rects = filterBubblesByText(roi_panel, bubble_rects, confidence_threshold = 0.5)"
   ]
  },
  {
   "cell_type": "code",
   "execution_count": 28,
   "id": "c9a1ad4b-7ee4-4f04-9307-a990f1f5a94e",
   "metadata": {},
   "outputs": [],
   "source": [
    "# bubble_text_list"
   ]
  },
  {
   "cell_type": "markdown",
   "id": "79b3e140-7b5e-4ce1-aea4-a912b990e819",
   "metadata": {},
   "source": [
    "## 测试代码：还原bubble坐标"
   ]
  },
  {
   "cell_type": "code",
   "execution_count": 29,
   "id": "8d020da7-b6e3-4af4-9d65-bdde098317dd",
   "metadata": {},
   "outputs": [],
   "source": [
    "for i, roi_panel in enumerate(roi_panels):\n",
    "    bubble_contours, bubble_rects = panel_findSpeechBubbles(roi_panel, mode=1)\n",
    "    \n",
    "    # 还原bubble_rects\n",
    "    raw_bubble_rects = []\n",
    "    if bubble_rects is None:\n",
    "        pass\n",
    "    else:\n",
    "        panel_x, panel_y, panel_w, panel_h = roi_panel_rects[i]\n",
    "        for bubble_rect in bubble_rects:\n",
    "            bubble_x, bubble_y, bubble_w, bubble_h = bubble_rect\n",
    "            bubble_x = bubble_x + panel_x\n",
    "            bubble_y = bubble_y + panel_y\n",
    "            raw_bubble_rect = [bubble_x, bubble_y, bubble_w, bubble_h]\n",
    "            raw_bubble_rects.append(raw_bubble_rect)"
   ]
  },
  {
   "cell_type": "code",
   "execution_count": 30,
   "id": "4697ce77-f9fa-4416-a344-1d70ec77374a",
   "metadata": {},
   "outputs": [
    {
     "data": {
      "text/plain": [
       "1"
      ]
     },
     "execution_count": 30,
     "metadata": {},
     "output_type": "execute_result"
    }
   ],
   "source": [
    "len(raw_bubble_rects)"
   ]
  },
  {
   "cell_type": "code",
   "execution_count": 31,
   "id": "e9dfbd10-3f85-43cd-98df-cb1bf5729e9e",
   "metadata": {},
   "outputs": [],
   "source": [
    "# 绘制并存储验证图像\n",
    "bubble_image = drawPanels(raw_bubble_rects, img)"
   ]
  },
  {
   "cell_type": "code",
   "execution_count": 32,
   "id": "e532a563-adbf-419e-910d-5ab468f4dc9a",
   "metadata": {},
   "outputs": [],
   "source": [
    "# 显示图像\n",
    "cv2.namedWindow('Panels', cv2.WINDOW_NORMAL) \n",
    "cv2.resizeWindow('Panels', width=int(img_w*0.4), height=int(img_h*0.4))\n",
    "cv2.imshow('Panels', bubble_image)\n",
    "cv2.waitKey(0)\n",
    "cv2.destroyAllWindows()"
   ]
  },
  {
   "cell_type": "markdown",
   "id": "3b0b7fd9-5fce-4fac-bc03-ba64c97c182d",
   "metadata": {},
   "source": [
    "## 在原始图像上绘制bubble与panel"
   ]
  },
  {
   "cell_type": "code",
   "execution_count": 33,
   "id": "9573c306-7dcd-4a3a-94fa-20aea7743d99",
   "metadata": {},
   "outputs": [],
   "source": [
    "def drawBubbles(bubble_rects_list, image):\n",
    "    \"\"\"\n",
    "    绘制image的bubbles边框\n",
    "    :param bubble_rects_list: 按panel记录的bubbles的边框信息\n",
    "    :param image: 待绘制的image\n",
    "    :return: image\n",
    "    \"\"\"\n",
    "    img = np.copy(image)\n",
    "\n",
    "    for bubble_rects in bubble_rects_list:\n",
    "        for bubble_rect in bubble_rects:\n",
    "            x, y, w, h = bubble_rect\n",
    "            # 在图像上绘制矩形\n",
    "            cv2.rectangle(img, (x, y), (x + w, y + h), (0, 255, 0), 5)\n",
    "    \n",
    "    return img"
   ]
  },
  {
   "cell_type": "code",
   "execution_count": 34,
   "id": "43709094-0bdf-4e53-9317-0b2acd6d3eca",
   "metadata": {},
   "outputs": [],
   "source": [
    "bubble_image = drawBubbles(bubble_rects_list, panel_image)"
   ]
  },
  {
   "cell_type": "code",
   "execution_count": 35,
   "id": "220fb476-1b5f-4566-992b-da50bfd56a03",
   "metadata": {},
   "outputs": [],
   "source": [
    "# 显示图像\n",
    "cv2.namedWindow('Panels', cv2.WINDOW_NORMAL) \n",
    "cv2.resizeWindow('Panels', width=int(img_w*0.4), height=int(img_h*0.4))\n",
    "cv2.imshow('Panels', bubble_image)\n",
    "cv2.waitKey(0)\n",
    "cv2.destroyAllWindows()"
   ]
  },
  {
   "cell_type": "markdown",
   "id": "83ec329a-b6fa-4b7e-9483-338f935bf286",
   "metadata": {},
   "source": [
    "# 测试代码：识别背景文字"
   ]
  },
  {
   "cell_type": "code",
   "execution_count": 178,
   "id": "65c07be3-7055-48d8-baeb-502d43264045",
   "metadata": {},
   "outputs": [],
   "source": [
    "roi_panels, roi_panel_rects = create_roi_panels(img, panel_contours, pixels=10) # 原始尺寸的panels掩码列表"
   ]
  },
  {
   "cell_type": "code",
   "execution_count": 179,
   "id": "eac40d6e-a5cc-4a31-9b4e-9ba5e0228707",
   "metadata": {},
   "outputs": [],
   "source": [
    "# 显示图像\n",
    "cv2.namedWindow('Panels', cv2.WINDOW_NORMAL) \n",
    "cv2.resizeWindow('Panels', width=int(img_w*0.4), height=int(img_h*0.4))\n",
    "cv2.imshow('Panels', roi_panels[0])\n",
    "cv2.waitKey(0)\n",
    "cv2.destroyAllWindows()"
   ]
  },
  {
   "cell_type": "code",
   "execution_count": 38,
   "id": "06a4edfc-f145-4072-a565-02bc7b4697b1",
   "metadata": {},
   "outputs": [],
   "source": [
    "def create_roi_not_bubble(panel, bubble_contours):\n",
    "    \"\"\"\n",
    "    提取给定轮廓信息的ROI\n",
    "    :param panel: BGR编码的panel图像\n",
    "    :param bubble_contours: bubble轮廓信息\n",
    "    :return roi_not_bubble: BGR编码的roi图像\n",
    "    \"\"\"\n",
    "    image = panel.copy()\n",
    "\n",
    "    h, w, _ = image.shape # 获取高度,宽度\n",
    "    # 创建一个全白的掩膜，注意这里的图像类型是uint8，所以是255\n",
    "    mask = np.ones((h, w), dtype=np.uint8) * 255\n",
    " \n",
    "    # 在掩模上绘制所有轮廓并填充为黑色（ROI）\n",
    "    for contour in bubble_contours:\n",
    "        cv2.drawContours(mask, [contour], -1, 0, thickness=-1)\n",
    " \n",
    "    roi_not_bubble = cv2.bitwise_and(image, image, mask=mask)\n",
    "    \n",
    "    return roi_not_bubble"
   ]
  },
  {
   "cell_type": "code",
   "execution_count": 180,
   "id": "6264f4ab-34ea-4b6f-81ff-3bce87b7f429",
   "metadata": {},
   "outputs": [],
   "source": [
    "not_bubble_image = create_roi_not_bubble(roi_panels[0], bubble_contours_list[0])"
   ]
  },
  {
   "cell_type": "code",
   "execution_count": 181,
   "id": "afbb52ba-6178-466a-acf8-b684ffc0dee4",
   "metadata": {},
   "outputs": [],
   "source": [
    "# 显示图像\n",
    "cv2.namedWindow('Panels', cv2.WINDOW_NORMAL) \n",
    "cv2.imshow('Panels', not_bubble_image)\n",
    "cv2.waitKey(0)\n",
    "cv2.destroyAllWindows()"
   ]
  },
  {
   "cell_type": "code",
   "execution_count": 182,
   "id": "6f7f2b45-2964-4a25-b4ab-b93bd5aa3503",
   "metadata": {},
   "outputs": [
    {
     "name": "stdout",
     "output_type": "stream",
     "text": [
      "[2025/01/14 03:22:37] ppocr DEBUG: dt_boxes num : 2, elapsed : 0.5299656391143799\n",
      "[2025/01/14 03:22:37] ppocr DEBUG: cls num  : 2, elapsed : 0.07863664627075195\n",
      "[2025/01/14 03:22:38] ppocr DEBUG: rec_res num  : 2, elapsed : 0.18123745918273926\n",
      "唐帝国天启元年\n",
      "0.9956974983215332\n",
      "钦天监\n",
      "0.983307421207428\n"
     ]
    }
   ],
   "source": [
    "panel = not_bubble_image.copy()\n",
    "panel_gray = cv2.cvtColor(panel, cv2.COLOR_BGR2GRAY)\n",
    "    \n",
    "background_texts = []\n",
    "result = ocr.ocr(panel, cls=True)\n",
    "result = result[0]\n",
    "if result is not None:\n",
    "    text_result = []\n",
    "    for line in result:\n",
    "        text = line[1][0]\n",
    "        confidence = line[1][1]\n",
    "        if confidence > 0:\n",
    "            text_result.append(text)\n",
    "            print(text)\n",
    "            print(confidence)"
   ]
  },
  {
   "cell_type": "code",
   "execution_count": 184,
   "id": "40e49f97-4ac7-4ef2-85cd-923ff349e58e",
   "metadata": {},
   "outputs": [
    {
     "data": {
      "text/plain": [
       "['唐帝国天启元年', '钦天监']"
      ]
     },
     "execution_count": 184,
     "metadata": {},
     "output_type": "execute_result"
    }
   ],
   "source": [
    "text_result"
   ]
  },
  {
   "cell_type": "code",
   "execution_count": null,
   "id": "54eab506-c614-4c1c-b4f9-4f0e910ce5e5",
   "metadata": {},
   "outputs": [],
   "source": []
  }
 ],
 "metadata": {
  "kernelspec": {
   "display_name": "Python 3 (ipykernel)",
   "language": "python",
   "name": "python3"
  },
  "language_info": {
   "codemirror_mode": {
    "name": "ipython",
    "version": 3
   },
   "file_extension": ".py",
   "mimetype": "text/x-python",
   "name": "python",
   "nbconvert_exporter": "python",
   "pygments_lexer": "ipython3",
   "version": "3.8.20"
  }
 },
 "nbformat": 4,
 "nbformat_minor": 5
}
