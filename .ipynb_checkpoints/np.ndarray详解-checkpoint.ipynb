{
 "cells": [
  {
   "cell_type": "code",
   "execution_count": 1,
   "id": "d578d6f2-353b-47bc-a347-d81ff25c58cd",
   "metadata": {},
   "outputs": [],
   "source": [
    "import numpy as np"
   ]
  },
  {
   "cell_type": "markdown",
   "id": "fec0d41a-e0cb-462b-9061-adcc6f65fb7f",
   "metadata": {},
   "source": [
    "N维数组对象ndarray，是一系列 **同类型** 数据的集合，每个元素在内存中有相同存储大小的区域。\n",
    "\n",
    "由 `numpy.arrray(object, dtype = None, copy = True, order = None, subok = False, ndmin = 0)` 创建\n",
    "- object：数组或嵌套的数列\n",
    "- ndmin：指定生成数组的最小维度"
   ]
  },
  {
   "cell_type": "code",
   "execution_count": 3,
   "id": "0f6442e3-e761-41bf-914b-51acd3dac530",
   "metadata": {},
   "outputs": [
    {
     "name": "stdout",
     "output_type": "stream",
     "text": [
      "[1 2 3]\n"
     ]
    }
   ],
   "source": [
    "a = np.array([1,2,3])  \n",
    "print (a)"
   ]
  },
  {
   "cell_type": "code",
   "execution_count": 4,
   "id": "b897ac94-048b-474c-a903-cb32b8b3a51b",
   "metadata": {},
   "outputs": [
    {
     "name": "stdout",
     "output_type": "stream",
     "text": [
      "[[1 2]\n",
      " [3 4]]\n"
     ]
    }
   ],
   "source": [
    "a = np.array([[1,  2],  [3,  4]])  \n",
    "print (a)"
   ]
  },
  {
   "cell_type": "code",
   "execution_count": 5,
   "id": "acf052fa-c995-4bd8-842e-0cc8ac7b97a9",
   "metadata": {},
   "outputs": [
    {
     "name": "stdout",
     "output_type": "stream",
     "text": [
      "[[1 2 3 4 5]]\n"
     ]
    }
   ],
   "source": [
    "a = np.array([1, 2, 3, 4, 5], ndmin =  2)  \n",
    "print (a)"
   ]
  },
  {
   "cell_type": "markdown",
   "id": "4be9d96a-e1bf-40fd-a796-00bd3931371b",
   "metadata": {},
   "source": [
    "# Numpy数组的属性"
   ]
  },
  {
   "cell_type": "code",
   "execution_count": 6,
   "id": "61bb0a52-08a4-4042-9ca9-e3a2ef52b6bc",
   "metadata": {},
   "outputs": [
    {
     "data": {
      "text/plain": [
       "2"
      ]
     },
     "execution_count": 6,
     "metadata": {},
     "output_type": "execute_result"
    }
   ],
   "source": [
    "a.ndim # 数组的秩,即维数"
   ]
  },
  {
   "cell_type": "code",
   "execution_count": 7,
   "id": "a9493d20-d445-4136-ac73-e16bd23bb5bc",
   "metadata": {},
   "outputs": [
    {
     "data": {
      "text/plain": [
       "(1, 5)"
      ]
     },
     "execution_count": 7,
     "metadata": {},
     "output_type": "execute_result"
    }
   ],
   "source": [
    "a.shape # 数组的尺寸"
   ]
  },
  {
   "cell_type": "code",
   "execution_count": 8,
   "id": "5d36c8d3-50ff-463b-ae72-c61ec6042f4c",
   "metadata": {},
   "outputs": [
    {
     "data": {
      "text/plain": [
       "5"
      ]
     },
     "execution_count": 8,
     "metadata": {},
     "output_type": "execute_result"
    }
   ],
   "source": [
    "a.size # 所有元素的个数"
   ]
  },
  {
   "cell_type": "code",
   "execution_count": 9,
   "id": "0dbd6792-8c2e-4f07-ac89-cb1745cce5dc",
   "metadata": {},
   "outputs": [
    {
     "data": {
      "text/plain": [
       "dtype('int32')"
      ]
     },
     "execution_count": 9,
     "metadata": {},
     "output_type": "execute_result"
    }
   ],
   "source": [
    "a.dtype # 元素的类型"
   ]
  },
  {
   "cell_type": "markdown",
   "id": "1ceaaef9-d53e-484d-94fe-fb418d73db03",
   "metadata": {},
   "source": [
    "# 操作ndarray"
   ]
  },
  {
   "cell_type": "markdown",
   "id": "7cccddad-aa81-46d5-900d-d8ceff7d2308",
   "metadata": {},
   "source": [
    "## reshape\n",
    "numpy.reshape(arr, newshape, order='C'): 重新排列数据的维度\n",
    "- arr: 要修改形状的数组\n",
    "- newshape: 整数或者整数数组，与原始数组包含的元素总数相同\n",
    "- order：'C' -- 按行，'F' -- 按列，'A' -- 原顺序，'k' -- 元素在内存中的出现顺序。\n",
    "- 如果新形状的某一个维度为 `-1`, 则表示该维度的大小由其他维度的大小和原始数组的元素总数自动计算"
   ]
  },
  {
   "cell_type": "code",
   "execution_count": 10,
   "id": "a0fbc712-1334-457e-b87e-e19dc4889ca2",
   "metadata": {},
   "outputs": [
    {
     "data": {
      "text/plain": [
       "array([[[ 0,  1,  2],\n",
       "        [ 3,  4,  5],\n",
       "        [ 6,  7,  8],\n",
       "        [ 9, 10, 11]],\n",
       "\n",
       "       [[12, 13, 14],\n",
       "        [15, 16, 17],\n",
       "        [18, 19, 20],\n",
       "        [21, 22, 23]]])"
      ]
     },
     "execution_count": 10,
     "metadata": {},
     "output_type": "execute_result"
    }
   ],
   "source": [
    "# 重构数组的尺寸\n",
    "a = np.arange(24)\n",
    "b = a.reshape(2, 4, 3)\n",
    "b"
   ]
  },
  {
   "cell_type": "code",
   "execution_count": 11,
   "id": "93ffc192-d805-4d15-8c16-3c024e7407c1",
   "metadata": {},
   "outputs": [
    {
     "data": {
      "text/plain": [
       "array([[ 0,  1,  2,  3,  4,  5,  6,  7],\n",
       "       [ 8,  9, 10, 11, 12, 13, 14, 15],\n",
       "       [16, 17, 18, 19, 20, 21, 22, 23]])"
      ]
     },
     "execution_count": 11,
     "metadata": {},
     "output_type": "execute_result"
    }
   ],
   "source": [
    "c = a.reshape(3, -1)\n",
    "c"
   ]
  },
  {
   "cell_type": "markdown",
   "id": "bb27beee-f039-44fe-87e0-f6eb33afeba1",
   "metadata": {},
   "source": [
    "## flat\n",
    "np.ndarray.flat是一个数组元素迭代器"
   ]
  },
  {
   "cell_type": "code",
   "execution_count": 14,
   "id": "296cadc7-32c8-4de5-a7ab-5dc95c75a5fb",
   "metadata": {},
   "outputs": [
    {
     "name": "stdout",
     "output_type": "stream",
     "text": [
      "原始数组：\n",
      "[0 1 2]\n",
      "[3 4 5]\n",
      "[6 7 8]\n"
     ]
    }
   ],
   "source": [
    "a = np.arange(9).reshape(3,3) \n",
    "print ('原始数组：')\n",
    "for row in a:\n",
    "    print (row)"
   ]
  },
  {
   "cell_type": "code",
   "execution_count": 15,
   "id": "6e853bca-e541-4715-ac49-4f6cf0d895f9",
   "metadata": {},
   "outputs": [
    {
     "name": "stdout",
     "output_type": "stream",
     "text": [
      "迭代后的数组：\n",
      "0\n",
      "1\n",
      "2\n",
      "3\n",
      "4\n",
      "5\n",
      "6\n",
      "7\n",
      "8\n"
     ]
    }
   ],
   "source": [
    "#对数组中每个元素都进行处理，可以使用flat属性，该属性是一个数组元素迭代器：\n",
    "print ('迭代后的数组：')\n",
    "for element in a.flat:\n",
    "    print (element)"
   ]
  },
  {
   "cell_type": "markdown",
   "id": "f5c2aac9-0bec-466c-ae2c-14f57d43c025",
   "metadata": {},
   "source": [
    "# 二维数组的常见操作"
   ]
  },
  {
   "cell_type": "code",
   "execution_count": 12,
   "id": "6309f382-f4f9-4c3e-9246-665d03716deb",
   "metadata": {},
   "outputs": [
    {
     "name": "stdout",
     "output_type": "stream",
     "text": [
      "[[1 2 3]\n",
      " [3 4 5]\n",
      " [4 5 6]]\n",
      "从数组索引 a[1:] 处开始切割\n",
      "[[3 4 5]\n",
      " [4 5 6]]\n"
     ]
    }
   ],
   "source": [
    "a = np.array([[1,2,3],[3,4,5],[4,5,6]])\n",
    "print(a)\n",
    "# 从某个索引处开始切割\n",
    "print('从数组索引 a[1:] 处开始切割')\n",
    "print(a[1:])"
   ]
  },
  {
   "cell_type": "code",
   "execution_count": 13,
   "id": "a3cf024d-bd70-4e69-9401-e4d4cf40e292",
   "metadata": {},
   "outputs": [
    {
     "name": "stdout",
     "output_type": "stream",
     "text": [
      "[2 4 5]\n",
      "[3 4 5]\n",
      "[[2 3]\n",
      " [4 5]\n",
      " [5 6]]\n"
     ]
    }
   ],
   "source": [
    "a = np.array([[1,2,3],[3,4,5],[4,5,6]])  \n",
    "print (a[...,1])   # 第2列元素\n",
    "print (a[1,...])   # 第2行元素\n",
    "print (a[...,1:])  # 第2列及剩下的所有元素"
   ]
  },
  {
   "cell_type": "markdown",
   "id": "7f4326d2-0668-4838-9fc2-0b24a13dff31",
   "metadata": {},
   "source": [
    "# 三维数组的常见操作"
   ]
  },
  {
   "cell_type": "code",
   "execution_count": 23,
   "id": "2d9c4518-680d-4c0b-bcb6-bff06da907f7",
   "metadata": {},
   "outputs": [
    {
     "name": "stdout",
     "output_type": "stream",
     "text": [
      "[[[ 1  2  3]\n",
      "  [ 4  5  6]]\n",
      "\n",
      " [[ 7  8  9]\n",
      "  [10 11 12]]]\n"
     ]
    }
   ],
   "source": [
    "# 使用 np.array 创建三维数组\n",
    "array_3d = np.array([[[1, 2, 3], [4, 5, 6]], [[7, 8, 9], [10, 11, 12]]])\n",
    "print(array_3d)"
   ]
  },
  {
   "cell_type": "code",
   "execution_count": 17,
   "id": "3f497ca5-8fa5-4529-acb1-411bbfae0f7c",
   "metadata": {},
   "outputs": [
    {
     "name": "stdout",
     "output_type": "stream",
     "text": [
      "1\n",
      "12\n"
     ]
    }
   ],
   "source": [
    "# 访问元素\n",
    "\n",
    "# 访问第一个元素\n",
    "print(array_3d[0, 0, 0])  # 输出: 1\n",
    " \n",
    "# 访问最后一个元素\n",
    "print(array_3d[-1, -1, -1])  # 输出: 12"
   ]
  },
  {
   "cell_type": "code",
   "execution_count": 20,
   "id": "af13fd41-6a5f-479d-ab0d-fb68c205de05",
   "metadata": {},
   "outputs": [
    {
     "name": "stdout",
     "output_type": "stream",
     "text": [
      "(2, 2, 3)\n",
      "\n",
      "[[ 1  2  3  4  5  6]\n",
      " [ 7  8  9 10 11 12]]\n",
      "\n",
      "[[[ 1  2  3]\n",
      "  [ 4  5  6]]\n",
      "\n",
      " [[ 7  8  9]\n",
      "  [10 11 12]]]\n"
     ]
    }
   ],
   "source": [
    "# 改变三维数组的形状\n",
    "print(array_3d.shape)\n",
    "\n",
    "# 将三维数组变为二维数组\n",
    "flat_array = array_3d.reshape((2, 6))\n",
    "print(f'\\n{flat_array}')\n",
    " \n",
    "# 将二维数组变为三维数组\n",
    "back_to_3d = flat_array.reshape((2, 2, 3))\n",
    "print(f'\\n{back_to_3d}')"
   ]
  },
  {
   "cell_type": "code",
   "execution_count": 21,
   "id": "11dbcd03-6366-4183-a036-43da0bf2cd00",
   "metadata": {},
   "outputs": [
    {
     "name": "stdout",
     "output_type": "stream",
     "text": [
      "1\n",
      "2\n",
      "3\n",
      "4\n",
      "5\n",
      "6\n",
      "7\n",
      "8\n",
      "9\n",
      "10\n",
      "11\n",
      "12\n"
     ]
    }
   ],
   "source": [
    "# 使用嵌套循环遍历\n",
    "for i in range(array_3d.shape[0]):\n",
    "    for j in range(array_3d.shape[1]):\n",
    "        for k in range(array_3d.shape[2]):\n",
    "            print(array_3d[i, j, k])"
   ]
  },
  {
   "cell_type": "code",
   "execution_count": 24,
   "id": "aa308451-419b-44bd-a85d-c94d02ed7c1d",
   "metadata": {},
   "outputs": [
    {
     "name": "stdout",
     "output_type": "stream",
     "text": [
      "[[1 2 3]\n",
      " [4 5 6]]\n",
      "\n",
      "[[[ 1  2]\n",
      "  [ 4  5]]\n",
      "\n",
      " [[ 7  8]\n",
      "  [10 11]]]\n"
     ]
    }
   ],
   "source": [
    "# 切片操作\n",
    "\n",
    "# 获取第一个二维数组\n",
    "slice_2d = array_3d[0]\n",
    "print(slice_2d)\n",
    " \n",
    "# 获取前两个元素\n",
    "slice_first_two = array_3d[:, :2, :2]\n",
    "print(f'\\n{slice_first_two}')"
   ]
  },
  {
   "cell_type": "code",
   "execution_count": null,
   "id": "a360c68d-9665-4286-9095-a0645ddc627c",
   "metadata": {},
   "outputs": [],
   "source": []
  }
 ],
 "metadata": {
  "kernelspec": {
   "display_name": "Python 3 (ipykernel)",
   "language": "python",
   "name": "python3"
  },
  "language_info": {
   "codemirror_mode": {
    "name": "ipython",
    "version": 3
   },
   "file_extension": ".py",
   "mimetype": "text/x-python",
   "name": "python",
   "nbconvert_exporter": "python",
   "pygments_lexer": "ipython3",
   "version": "3.8.20"
  }
 },
 "nbformat": 4,
 "nbformat_minor": 5
}
