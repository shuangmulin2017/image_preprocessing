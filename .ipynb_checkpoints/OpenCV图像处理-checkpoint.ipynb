{
 "cells": [
  {
   "cell_type": "code",
   "execution_count": 1,
   "id": "17aad0f6-b438-4f93-bcf5-1c2fd001a4fa",
   "metadata": {},
   "outputs": [],
   "source": [
    "import cv2\n",
    "import os\n",
    "import numpy as np\n",
    "from matplotlib import pyplot as plt"
   ]
  },
  {
   "cell_type": "markdown",
   "id": "a8808fc4-a050-4d5f-8b40-6018f99effd3",
   "metadata": {},
   "source": [
    "# 图像基础"
   ]
  },
  {
   "cell_type": "markdown",
   "id": "62caaa50-05da-419d-b8a1-568206e0ab0a",
   "metadata": {},
   "source": [
    "## 读取、显示、存储图像\n",
    "逐行读取像素点信息"
   ]
  },
  {
   "cell_type": "raw",
   "id": "bf92a6a0-ee93-4c3e-80b2-f98afbb83ac0",
   "metadata": {},
   "source": [
    "image = cv2.imread('path/to/image.jpg', cv2.IMREAD_COLOR)"
   ]
  },
  {
   "cell_type": "markdown",
   "id": "32c7e972-70e9-4e38-afb4-51f2ea005dec",
   "metadata": {},
   "source": [
    "- cv2.IMREAD_COLOR = 1：始终将图像转换为BGR彩色图像，忽略 Alpha 通道。\n",
    "- cv2.IMREAD_GRAYSCALE = 0：始终将图像转换为灰度图像。\n",
    "- cv2.IMREAD_UNCHANGED = -1：读取原始图像，包括 Alpha 通道。"
   ]
  },
  {
   "cell_type": "code",
   "execution_count": 2,
   "id": "43c94388-56d0-4f69-97dc-b1cae265a19c",
   "metadata": {},
   "outputs": [],
   "source": [
    "# 读取图片\n",
    "image = cv2.imread(r\"C:\\Users\\lin kexiu\\Pictures\\mushi\\007vAwKYgy1hjs5ijuwfkj30xc1e0ke8.jpg\")\n",
    "assert image is not None, \"file could not be read, check with os.path.exists()\""
   ]
  },
  {
   "cell_type": "code",
   "execution_count": 14,
   "id": "b772c75d-ab40-4c98-a173-f425252d07b3",
   "metadata": {},
   "outputs": [],
   "source": [
    "gray_img_path = r\"D:\\studyhard_lin\\2025_research\\comic_panels_analysis\\sample_dataset\\Doraemon\\001\\001-02.jpg\"\n",
    "gray_img = cv2.imread(gray_img_path)\n",
    "assert gray_img is not None, \"file could not be read, check with os.path.exists()\""
   ]
  },
  {
   "cell_type": "code",
   "execution_count": 6,
   "id": "b994ab2a-852f-4ee5-81c4-ede61b85bc95",
   "metadata": {},
   "outputs": [],
   "source": [
    "cv2.imshow('Color Image', image)\n",
    "cv2.imshow('Gray Image', gray_img) \n",
    "cv2.waitKey(0)\n",
    "cv2.destroyAllWindows()"
   ]
  },
  {
   "cell_type": "code",
   "execution_count": 7,
   "id": "0fbb75bc-ff23-4c7a-8b85-99acb4883c80",
   "metadata": {},
   "outputs": [
    {
     "data": {
      "text/plain": [
       "True"
      ]
     },
     "execution_count": 7,
     "metadata": {},
     "output_type": "execute_result"
    }
   ],
   "source": [
    "# 存储图像\n",
    "cv2.imwrite('./output/image.jpg', image)"
   ]
  },
  {
   "cell_type": "raw",
   "id": "d7d46f41-0603-4ec6-8d57-8b238633f6e7",
   "metadata": {},
   "source": [
    "cv2.resize(src, dsize[, dst[, fx[, fy[, interpolation]]]])"
   ]
  },
  {
   "cell_type": "markdown",
   "id": "c0585d76-6870-420a-9599-262ad276cec6",
   "metadata": {},
   "source": [
    "调整图像的尺寸\n",
    "- src: 输入图像。\n",
    "- dsize: 输出图像的尺寸，可以是一个单元素的元组（仅指定宽度），或者两个元素的元组（宽度和高度）。\n",
    "- fx 和 fy: 缩放因子，分别表示宽度和高度的缩放比例。如果未指定，则使用dsize参数。\n",
    "- interpolation: 插值方法，用于确定像素值。常用的插值方法有cv2.INTER_LINEAR（线性插值）、cv2.INTER_NEAREST（最近邻插值）等。"
   ]
  },
  {
   "cell_type": "code",
   "execution_count": 9,
   "id": "7f11cfa4-4d96-4f78-b017-4b8959e2890b",
   "metadata": {},
   "outputs": [],
   "source": [
    "# 缩小gray_img的尺寸\n",
    "height, width = gray_img.shape[:2]\n",
    "scale = 0.25\n",
    "new_size = (width // 2, height // 2)\n",
    "resized_img = cv2.resize(gray_img, dsize=new_size, interpolation=cv2.INTER_LINEAR)\n",
    "scaled_img = cv2.resize(gray_img, dsize=None, fx=scale, fy=scale, interpolation=cv2.INTER_LINEAR)\n",
    "\n",
    "# 显示原图和缩放后的图像\n",
    "cv2.imshow('Scaled Image', scaled_img)\n",
    "cv2.imshow('Resized Image', resized_img)\n",
    "cv2.waitKey(0)\n",
    "cv2.destroyAllWindows()"
   ]
  },
  {
   "cell_type": "raw",
   "id": "e04844df-06dc-4f1b-9eeb-cb3e44e18ec1",
   "metadata": {},
   "source": [
    "cv2.namedWindow(winname, flags) \n",
    "调整窗口的大小"
   ]
  },
  {
   "cell_type": "markdown",
   "id": "ddcee55e-c582-446c-b09e-4829f3421933",
   "metadata": {},
   "source": [
    "flags的取值：\n",
    "- cv2.WINDOW_NORMAL：窗口大小可以调整。\n",
    "- cv2.WINDOW_AUTOSIZE：窗口大小根据图像大小自动调整。\n",
    "- cv2.WINDOW_FULLSCREEN：窗口全屏显示。\n",
    "- cv2.WINDOW_FREERATIO：窗口大小可以自由调整，但图像的宽高比不变。\n",
    "- cv2.WINDOW_KEEPRATIO：窗口大小可以自由调整，但图像的宽高比保持不变。"
   ]
  },
  {
   "cell_type": "code",
   "execution_count": null,
   "id": "a47a1e7c-19a9-4fe4-b2ae-ab21c180132e",
   "metadata": {},
   "outputs": [],
   "source": [
    "# 设置窗口显示的大小 \n",
    "# 创建一个名为 \"image\" 的窗口，并设置属性为可调整大小\n",
    "cv2.namedWindow('image', cv2.WINDOW_NORMAL) \n",
    "# 设置窗口的宽度和高度\n",
    "cv2.resizeWindow('image', width=800, height=600)\n",
    "# 在指定的窗口中显示图像\n",
    "cv2.imshow('image', image)\n",
    "# 等待按键事件\n",
    "cv2.waitKey(0)\n",
    "# 销毁所有窗口\n",
    "cv2.destroyAllWindows()"
   ]
  },
  {
   "cell_type": "markdown",
   "id": "79872fd6-734e-4b59-94dd-23f15c947560",
   "metadata": {},
   "source": [
    "## 获取图像信息\n",
    "Image properties include number of rows, columns, and channels; type of image data; number of pixels; etc."
   ]
  },
  {
   "cell_type": "code",
   "execution_count": 29,
   "id": "a3836f5f-616b-4769-ab0d-7d69e7a1f3f9",
   "metadata": {},
   "outputs": [
    {
     "data": {
      "text/plain": [
       "2142450"
      ]
     },
     "execution_count": 29,
     "metadata": {},
     "output_type": "execute_result"
    }
   ],
   "source": [
    "# 总像素数目\n",
    "image.size"
   ]
  },
  {
   "cell_type": "code",
   "execution_count": 20,
   "id": "6816076e-ec1c-4ef8-8541-ad9c32b0ee9f",
   "metadata": {},
   "outputs": [
    {
     "data": {
      "text/plain": [
       "(2500, 1874, 3)"
      ]
     },
     "execution_count": 20,
     "metadata": {},
     "output_type": "execute_result"
    }
   ],
   "source": [
    "gray_img.shape"
   ]
  },
  {
   "cell_type": "markdown",
   "id": "77dc54ad-fa4d-4a4a-9476-19469e5f1cb3",
   "metadata": {},
   "source": [
    "img.dtype is very important while debugging because a large number of errors in OpenCV-Python code are caused by invalid datatype."
   ]
  },
  {
   "cell_type": "code",
   "execution_count": 30,
   "id": "59393316-2c8f-4292-9034-bb501fc4bb50",
   "metadata": {},
   "outputs": [
    {
     "data": {
      "text/plain": [
       "dtype('uint8')"
      ]
     },
     "execution_count": 30,
     "metadata": {},
     "output_type": "execute_result"
    }
   ],
   "source": [
    "image.dtype"
   ]
  },
  {
   "cell_type": "markdown",
   "id": "7ad9a9fc-5f02-4a70-9242-3ef5673bbe04",
   "metadata": {},
   "source": [
    "For BGR image, it returns an array of Blue, Green, Red values. For grayscale image, just corresponding intensity is returned."
   ]
  },
  {
   "cell_type": "code",
   "execution_count": 4,
   "id": "2654bce4-308a-479c-974f-d093c4ef45a8",
   "metadata": {},
   "outputs": [
    {
     "data": {
      "text/plain": [
       "array([238, 228, 228], dtype=uint8)"
      ]
     },
     "execution_count": 4,
     "metadata": {},
     "output_type": "execute_result"
    }
   ],
   "source": [
    "# 获取指定像素点的BGR值\n",
    "image[0, 0]"
   ]
  },
  {
   "cell_type": "code",
   "execution_count": 5,
   "id": "10799f0e-15df-4532-9c17-5f8e7fd581be",
   "metadata": {},
   "outputs": [
    {
     "data": {
      "text/plain": [
       "238"
      ]
     },
     "execution_count": 5,
     "metadata": {},
     "output_type": "execute_result"
    }
   ],
   "source": [
    "image.item(0, 0, 0) #item(高, 宽, 通道)\n",
    "# 使用img.itemset(三元组索引, 新值)修改对应像素点的单通道颜色"
   ]
  },
  {
   "cell_type": "code",
   "execution_count": 6,
   "id": "140f0d3d-0e0e-42f4-bdbb-94962f7e87f9",
   "metadata": {},
   "outputs": [
    {
     "name": "stdout",
     "output_type": "stream",
     "text": [
      "图像的高为1035, 宽为690, 通道数有3个\n"
     ]
    }
   ],
   "source": [
    "# 获取image的宽度和高度\n",
    "height = image.shape[0]\n",
    "width = image.shape[1]\n",
    "channels = image.shape[2]\n",
    "print(f'图像的高为{height}, 宽为{width}, 通道数有{channels}个')"
   ]
  },
  {
   "cell_type": "markdown",
   "id": "7f2a0a7f-2648-40bf-bd04-451964fc3e87",
   "metadata": {},
   "source": [
    "### Image ROI\n",
    "Sometimes, we will have to play with certain regions of images. For eye detection in images, first face detection is done over the entire image. When a face is obtained, we select the face region alone and search for eyes inside it instead of searching the whole image. It improves accuracy (because eyes are always on faces :D ) and performance (because we search in a small area)."
   ]
  },
  {
   "cell_type": "code",
   "execution_count": 7,
   "id": "0c970de9-6117-4b3e-966f-6ec39a2f4557",
   "metadata": {},
   "outputs": [],
   "source": [
    "# 获取感兴趣的ROI\n",
    "cut_img = image[100:800, 10:300]"
   ]
  },
  {
   "cell_type": "markdown",
   "id": "c4584c4e-dbdf-43b5-8223-31eacc32a09b",
   "metadata": {},
   "source": [
    "## 拆分合并图像通道\n",
    "`cv2.split()` is a costly operation (in terms of time). So use it only if necessary. Otherwise go for Numpy indexing."
   ]
  },
  {
   "cell_type": "code",
   "execution_count": 32,
   "id": "11659f4a-9cad-4f19-bcce-83310d022efe",
   "metadata": {},
   "outputs": [
    {
     "name": "stdout",
     "output_type": "stream",
     "text": [
      "(1035, 690)\n"
     ]
    }
   ],
   "source": [
    "# 拆分通道\n",
    "img = image\n",
    "\n",
    "# 索引拆分\n",
    "b = img[ : , : , 0 ]\n",
    "g = img[ : , : , 1 ]\n",
    "r = img[ : , : , 2 ]\n",
    "\n",
    "# 函数拆分\n",
    "b, g, r=cv2.split(img)\n",
    "    \n",
    "b=cv2.split(img)[0]\n",
    "g=cv2.split(img)[1]\n",
    "r=cv2.split(img)[2]\n",
    "\n",
    "print(b.shape)"
   ]
  },
  {
   "cell_type": "code",
   "execution_count": 33,
   "id": "f31394fe-33f5-41a4-92e0-1ed8e896d058",
   "metadata": {},
   "outputs": [],
   "source": [
    "# 合并通道\n",
    "bgr = cv2.merge([b, g, r])"
   ]
  },
  {
   "cell_type": "markdown",
   "id": "a56cf87e-263e-48f6-811e-b6e508cba3d9",
   "metadata": {},
   "source": [
    "### 判断是否为黑白图像"
   ]
  },
  {
   "cell_type": "code",
   "execution_count": 25,
   "id": "ae60dc4d-2534-4bf3-9e71-426042ac8fd7",
   "metadata": {},
   "outputs": [
    {
     "name": "stdout",
     "output_type": "stream",
     "text": [
      "True\n",
      "False\n"
     ]
    }
   ],
   "source": [
    "def is_gray(img):\n",
    "    \"\"\"\n",
    "    Determine whether the image is a grayscale image\n",
    "    :param img: image\n",
    "    \"return: Boolean\n",
    "    \"\"\"\n",
    "    b, g, r=cv2.split(img)\n",
    "    if np.array_equal(b, g) & np.array_equal(b, r):\n",
    "        return True\n",
    "    else:\n",
    "        return False\n",
    "\n",
    "print(is_gray(gray_img))\n",
    "print(is_gray(img))"
   ]
  },
  {
   "cell_type": "markdown",
   "id": "0f944f25-bc92-42f2-9851-afcc0e6c822d",
   "metadata": {},
   "source": [
    "### 显示b、g、r单通道图像"
   ]
  },
  {
   "cell_type": "code",
   "execution_count": 27,
   "id": "44b5abf6",
   "metadata": {},
   "outputs": [],
   "source": [
    "# 默认显示为不同灰度的灰度图\n",
    "cv2.imshow('blue', b) \n",
    "cv2.imshow('green', g)\n",
    "cv2.imshow('red', r) \n",
    "cv2.waitKey(0)\n",
    "cv2.destroyAllWindows()"
   ]
  },
  {
   "cell_type": "code",
   "execution_count": 35,
   "id": "cead4808-3a0b-4ee6-9c20-9dfdcb6c226d",
   "metadata": {},
   "outputs": [],
   "source": [
    "# 使得提取的单通道图像显示为彩色\n",
    "\n",
    "# # 创建与图像尺寸相同的零矩阵\n",
    "# zeros = np.zeros(image.shape[:2], dtype=\"uint8\")\n",
    "# single_image = cv2.merge([b, zeros, zeros])\n",
    "\n",
    "# 也可以直接将红绿通道设置为0\n",
    "img[ : , : , 1 ] = 0\n",
    "img[ : , : , 2 ] = 0\n",
    "\n",
    "cv2.imshow('Single Channel Image', img)\n",
    "cv2.waitKey(0)\n",
    "cv2.destroyAllWindows()"
   ]
  },
  {
   "cell_type": "markdown",
   "id": "4369986f-70b1-42f2-bcca-74101c1aff7c",
   "metadata": {},
   "source": [
    "## 为图像添加边框(Padding)\n",
    "`cv2.copyMakeBorder()`\n",
    "- src - input image\n",
    "- top, bottom, left, right - border width in number of pixels in corresponding directions\n",
    "- borderType - Flag defining what kind of border to be added. It can be following types:\n",
    "    - cv.BORDER_CONSTANT - Adds a constant colored border. The value should be given as next argument.\n",
    "    - cv.BORDER_REFLECT - Border will be mirror reflection of the border elements, like this : fedcba|abcdefgh|hgfedcb\n",
    "    - cv.BORDER_REFLECT_101 or cv.BORDER_DEFAULT - Same as above, but with a slight change, like this : gfedcb|abcdefgh|gfedcba\n",
    "    - cv.BORDER_REPLICATE - Last element is replicated throughout, like this: aaaaaa|abcdefgh|hhhhhhh\n",
    "    - cv.BORDER_WRAP - Can't explain, it will look like this : cdefgh|a\n",
    "- value - Color of border if border type is cv.BORDER_CONSTANT"
   ]
  },
  {
   "cell_type": "code",
   "execution_count": 48,
   "id": "bd75e69a-0055-4a1a-9fae-4a87cbbacdde",
   "metadata": {},
   "outputs": [
    {
     "data": {
      "image/png": "[encoded data removed]",
      "text/plain": [
       "<Figure size 640x480 with 6 Axes>"
      ]
     },
     "metadata": {},
     "output_type": "display_data"
    }
   ],
   "source": [
    "img1 = cv2.imread(r\"C:\\Users\\lin kexiu\\Pictures\\mushi\\p654719373.jpg\")\n",
    "\n",
    "RED = [255,0,0] # matplotlib仍然使用RGB模型\n",
    "  \n",
    "replicate = cv2.copyMakeBorder(img1,30,30,30,30,cv2.BORDER_REPLICATE)\n",
    "reflect = cv2.copyMakeBorder(img1,30,30,30,30,cv2.BORDER_REFLECT)\n",
    "reflect101 = cv2.copyMakeBorder(img1,30,30,30,30,cv2.BORDER_REFLECT_101)\n",
    "wrap = cv2.copyMakeBorder(img1,30,30,30,30,cv2.BORDER_WRAP)\n",
    "constant= cv2.copyMakeBorder(img1,30,30,30,30,cv2.BORDER_CONSTANT,value=BLUE)\n",
    " \n",
    "plt.subplot(231),plt.imshow(img1,'gray'),plt.title('ORIGINAL')\n",
    "plt.subplot(232),plt.imshow(replicate,'gray'),plt.title('REPLICATE')\n",
    "plt.subplot(233),plt.imshow(reflect,'gray'),plt.title('REFLECT')\n",
    "plt.subplot(234),plt.imshow(reflect101,'gray'),plt.title('REFLECT_101')\n",
    "plt.subplot(235),plt.imshow(wrap,'gray'),plt.title('WRAP')\n",
    "plt.subplot(236),plt.imshow(constant,'gray'),plt.title('CONSTANT')\n",
    " \n",
    "plt.show()"
   ]
  },
  {
   "cell_type": "markdown",
   "id": "a97eb118-7493-4030-bef8-8907273ef973",
   "metadata": {},
   "source": [
    "# 图像的算数运算"
   ]
  },
  {
   "cell_type": "markdown",
   "id": "6d7bb41d-4d06-4f89-a720-269725896216",
   "metadata": {},
   "source": [
    "## 加运算\n",
    "You can add two images with the OpenCV function, cv.add(), or simply by the numpy operation res = img1 + img2. Both images should be of same depth and type, or the second image can just be a scalar value."
   ]
  },
  {
   "cell_type": "markdown",
   "id": "f204765c-9658-4fed-96d1-75e8be1bd5a5",
   "metadata": {},
   "source": [
    "### Image Blending 图像融合\n",
    "`cv2.addWeighted()`: This is image addition, but different weights are given to images in order to give a feeling of blending or transparency. Images are added as per the equation below：\n",
    "$$\n",
    "dst = \\alpha \\cdot img_1 + (1-\\alpha) \\cdot img_2 + \\gamma\n",
    "$$"
   ]
  },
  {
   "cell_type": "code",
   "execution_count": 65,
   "id": "2ffb7a82-c3c2-426c-b9d5-11be614b4227",
   "metadata": {},
   "outputs": [],
   "source": [
    "# 将绘制好颜色的图像与原图像叠加\n",
    "alpha = 0.5  # 重叠时的透明度\n",
    "dst = cv2.addWeighted(imgMask, alpha, image, 1 - alpha, 0)"
   ]
  },
  {
   "cell_type": "code",
   "execution_count": 66,
   "id": "455486df-497f-4730-84ff-962c01bcafb6",
   "metadata": {},
   "outputs": [],
   "source": [
    "# 显示图像\n",
    "cv2.imshow('Image', image)\n",
    "cv2.waitKey(0)\n",
    "cv2.imshow('dst', dst)\n",
    "cv2.waitKey(0)\n",
    "cv2.destroyAllWindows()"
   ]
  },
  {
   "cell_type": "markdown",
   "id": "0c4cf4a5-c896-4015-a04d-f245551f7427",
   "metadata": {},
   "source": [
    "## 位运算\n",
    "This includes the bitwise AND, OR, NOT, and XOR operations. They will be highly useful while extracting any part of the image, defining and working with non-rectangular ROI's, and etc. Below we will see an example of how to change a particular region of an image."
   ]
  },
  {
   "cell_type": "raw",
   "id": "7be5658e-5dc5-4d35-85f6-4c7b8ea09573",
   "metadata": {},
   "source": [
    "cv2.bitwise_and(src1, src2, dst=None, mask=None)"
   ]
  },
  {
   "cell_type": "markdown",
   "id": "c5785362-e972-40e7-a307-ed9b16853517",
   "metadata": {},
   "source": [
    "### 保留单通道图像"
   ]
  },
  {
   "cell_type": "code",
   "execution_count": 49,
   "id": "d27cc9d0-cf81-4d1f-8e51-93648d0818c0",
   "metadata": {},
   "outputs": [],
   "source": [
    "# 读取图像\n",
    "img = cv2.imread(r\"C:\\Users\\lin kexiu\\Pictures\\mushi\\p629799029.jpg\")\n",
    "\n",
    "resultImg2 = cv2.bitwise_and(img, (255, 0, 0)) # 仅保留蓝色通道的像素值\n",
    "resultImg3 = cv2.bitwise_and(img, (0, 255, 0)) # 仅保留绿色通道的像素值\n",
    "resultImg4 = cv2.bitwise_and(img, (0, 0, 255)) # 仅保留红色通道的像素值\n",
    " \n",
    "# 显示结果图像\n",
    "cv2.imshow('resultImg2', resultImg2)\n",
    "cv2.imshow('resultImg3', resultImg3)\n",
    "cv2.imshow('resultImg4', resultImg4)\n",
    "cv2.waitKey(0)\n",
    "cv2.destroyAllWindows()"
   ]
  },
  {
   "cell_type": "markdown",
   "id": "352b00e1-7cc9-46ce-9d27-fe28bed549c8",
   "metadata": {},
   "source": [
    "# 图像绘制"
   ]
  },
  {
   "cell_type": "markdown",
   "id": "02894713-2d69-4b67-ac9f-1155d629b25a",
   "metadata": {},
   "source": [
    "### 矩阵填充"
   ]
  },
  {
   "cell_type": "code",
   "execution_count": 67,
   "id": "f4f7f299-8e95-4a89-b0f6-94c57831442d",
   "metadata": {},
   "outputs": [],
   "source": [
    "# 创建一个全白BGR图像\n",
    "height, width, channels = 300, 300, 3\n",
    "image = np.ones((height, width, channels), dtype=np.uint8) * 255"
   ]
  },
  {
   "cell_type": "code",
   "execution_count": 68,
   "id": "6e4b198d-c68f-4966-ab58-7fe7e3378751",
   "metadata": {},
   "outputs": [],
   "source": [
    " # 设置特定区域\n",
    "region = (10, 10, 100, 100) # 区域(x, y, width, height)\n",
    "x, y, w, h = region\n",
    "\n",
    "# 设置区域像素颜色（B, G, R）\n",
    "fill_color = (234,168,187)\n",
    "\n",
    "image = cv2.rectangle(image, (x, y), (x+w, y+h), fill_color, -1) # -1表示填充颜色"
   ]
  },
  {
   "cell_type": "code",
   "execution_count": 69,
   "id": "44d0fac8-8c27-4b45-bea0-fff468b4ddd6",
   "metadata": {},
   "outputs": [],
   "source": [
    "# 显示图像\n",
    "cv2.imshow('Image', image)\n",
    "cv2.waitKey(0)\n",
    "cv2.destroyAllWindows()"
   ]
  },
  {
   "cell_type": "markdown",
   "id": "1de84aaf-dcbd-4791-9f6e-d8e3f4138fec",
   "metadata": {},
   "source": [
    "# 颜色"
   ]
  },
  {
   "cell_type": "code",
   "execution_count": 18,
   "id": "40cace1b-aecf-4292-a504-f96bddbfd87f",
   "metadata": {},
   "outputs": [],
   "source": [
    "# 读取测试图片\n",
    "image = cv2.imread(r\"C:\\Users\\lin kexiu\\Pictures\\mushi\\p629799029.jpg\")\n",
    "\n",
    "# 显示图片\n",
    "cv2.imshow(\"image\", image)\n",
    "cv2.waitKey(0)\n",
    "cv2.destroyAllWindows()"
   ]
  },
  {
   "cell_type": "code",
   "execution_count": 17,
   "id": "cabc6694-9816-4b17-a4af-ead86ab44a38",
   "metadata": {},
   "outputs": [
    {
     "name": "stdout",
     "output_type": "stream",
     "text": [
      "图片的高是： 400\n",
      "图片的宽是： 600\n",
      "图片的深是： 3\n"
     ]
    }
   ],
   "source": [
    "(height,width,deep) = image.shape\n",
    "print('图片的高是：',height)\n",
    "print('图片的宽是：',width)\n",
    "print('图片的深是：', deep)"
   ]
  },
  {
   "cell_type": "markdown",
   "id": "bf6605e6-654b-4946-8ea2-3d6e64ee13d0",
   "metadata": {},
   "source": [
    "## 颜色空间转换"
   ]
  },
  {
   "cell_type": "raw",
   "id": "8b48b3ac-cfd5-4ec7-9751-4bd226d830fc",
   "metadata": {},
   "source": [
    "cv2.cvtColor(src, code[, dst[, dstCn]]) ->\tdst\n",
    "\n",
    "Parameters\n",
    "    src\tinput image: 8-bit unsigned, 16-bit unsigned ( CV_16UC... ), or single-precision floating-point.\n",
    "    dst\toutput image of the same size and depth as src.\n",
    "    code\tcolor space conversion code (see ColorConversionCodes).\n",
    "    dstCn\tnumber of channels in the destination image; if the parameter is 0, the number of the channels is derived automatically from src and code."
   ]
  },
  {
   "cell_type": "markdown",
   "id": "b9ace723-c3bc-4b0c-bb6c-d7bc891e237e",
   "metadata": {},
   "source": [
    "The function converts an input image from one color space to another.\n",
    "\n",
    "In case of linear transformations, the range does not matter. But in case of a non-linear transformation, an input RGB image should be normalized to the proper value range to get the correct results, for example, for RGB → L*u*v* transformation. For example, if you have a 32-bit floating-point image directly converted from an 8-bit image without any scaling, then it will have the 0..255 value range instead of 0..1 assumed by the function. So, before calling cvtColor , you need first to scale the image down:"
   ]
  },
  {
   "cell_type": "raw",
   "id": "02ad678e-de02-49b4-b785-2f92824654f6",
   "metadata": {},
   "source": [
    "img *= 1./255;\n",
    "cvtColor(img, img, COLOR_BGR2Luv);"
   ]
  },
  {
   "cell_type": "code",
   "execution_count": 19,
   "id": "e8d575c2-cfa7-402b-bc0d-82962c133e28",
   "metadata": {},
   "outputs": [],
   "source": [
    "# 转换颜色空间从BGR到灰度图像\n",
    "gray_image = cv2.cvtColor(image, cv2.COLOR_BGR2GRAY)\n",
    "\n",
    "# 显示转换后的灰度图像\n",
    "cv2.imshow('Gray Image', gray_image)\n",
    "cv2.waitKey(0)\n",
    "cv2.destroyAllWindows()"
   ]
  },
  {
   "cell_type": "code",
   "execution_count": 20,
   "id": "0c475788-05b7-4cc9-b4ea-79a0a9ef0704",
   "metadata": {},
   "outputs": [],
   "source": [
    "# 转换颜色空间从BGR到HSV\n",
    "hsv_image = cv2.cvtColor(image, cv2.COLOR_BGR2HSV)\n",
    "\n",
    "# 显示图片\n",
    "cv2.imshow(\"image\", hsv_image)\n",
    "cv2.waitKey(0)\n",
    "cv2.destroyAllWindows()"
   ]
  },
  {
   "cell_type": "markdown",
   "id": "3aa2d4c7-15bf-4317-85a8-7f74f077e0af",
   "metadata": {},
   "source": [
    "在OpenCV中，可以使用`cv2.cvtColor`函数将灰度图先转换为BGR颜色空间，再转换为HSV颜色空间。"
   ]
  },
  {
   "cell_type": "code",
   "execution_count": 22,
   "id": "88979f5a-4dd1-472d-8e04-1661d217574a",
   "metadata": {},
   "outputs": [],
   "source": [
    "# 将灰度图转换为彩色图像（这里简单地将每个灰度值复制到RGB各分量）\n",
    "color_image = cv2.cvtColor(gray_image, cv2.COLOR_GRAY2RGB)\n",
    "# 将彩色图像转换为HSV色彩空间\n",
    "gray_hsv_image = cv2.cvtColor(color_image, cv2.COLOR_RGB2HSV)"
   ]
  },
  {
   "cell_type": "code",
   "execution_count": 23,
   "id": "b4014ec6-0e48-4de2-a835-50c5246dbc74",
   "metadata": {},
   "outputs": [],
   "source": [
    "# 显示图片\n",
    "cv2.imshow(\"image\", gray_hsv_image)\n",
    "cv2.waitKey(0)\n",
    "cv2.destroyAllWindows()"
   ]
  },
  {
   "cell_type": "markdown",
   "id": "9a3d824d-a81e-4ab8-9003-6029dd020d01",
   "metadata": {},
   "source": [
    "## BGR分布"
   ]
  },
  {
   "cell_type": "code",
   "execution_count": 6,
   "id": "f8d54816-3d35-4d47-b2e8-df3199030aab",
   "metadata": {},
   "outputs": [
    {
     "name": "stdout",
     "output_type": "stream",
     "text": [
      "Bmin,Gmin,Rmin: 0 0 0\n",
      "Bmax,Gmax,Rmax: 252 248 255\n"
     ]
    }
   ],
   "source": [
    "# 获取图像BGR的取值范围\n",
    "\n",
    "# ndarray操作\n",
    "Bmin, Gmin, Rmin = np.min(image[:, :, 0]), np.min(image[:, :, 1]), np.min(image[:, :, 2])\n",
    "Bmax, Gmax, Rmax = np.max(image[:, :, 0]), np.max(image[:, :, 1]), np.max(image[:, :, 2])\n",
    "print('Bmin,Gmin,Rmin:', Bmin, Gmin, Rmin)\n",
    "print('Bmax,Gmax,Rmax:', Bmax, Gmax, Rmax)"
   ]
  },
  {
   "cell_type": "raw",
   "id": "7444b669-7826-41cd-a4f6-7efa6361a949",
   "metadata": {},
   "source": [
    "minVal, maxVal, minLoc, maxLoc=cv2.minMaxLoc(src[, mask]): 只能处理单通道的图像或矩阵"
   ]
  },
  {
   "cell_type": "code",
   "execution_count": 5,
   "id": "b8615abb-92bd-454f-a10d-4926ace68c4f",
   "metadata": {},
   "outputs": [
    {
     "name": "stdout",
     "output_type": "stream",
     "text": [
      "蓝色取值的最小值: 0.0, 最大值: 252.0\n",
      "绿色取值的最小值: 0.0, 最大值: 248.0\n",
      "红色取值的最小值: 0.0, 最大值: 255.0\n"
     ]
    }
   ],
   "source": [
    "# 函数操作\n",
    "\n",
    "b, g, r=cv2.split(image)\n",
    " \n",
    "# 使用cv2.minMaxLoc获取最大值和最小值\n",
    "bmin_val, bmax_val, bmin_loc, bmax_loc = cv2.minMaxLoc(b)\n",
    "gmin_val, gmax_val, gmin_loc, gmax_loc = cv2.minMaxLoc(g)\n",
    "rmin_val, rmax_val, rmin_loc, rmax_loc = cv2.minMaxLoc(r)\n",
    " \n",
    "print(f\"蓝色取值的最小值: {bmin_val}, 最大值: {bmax_val}\")\n",
    "print(f\"绿色取值的最小值: {gmin_val}, 最大值: {gmax_val}\")\n",
    "print(f\"红色取值的最小值: {rmin_val}, 最大值: {rmax_val}\")"
   ]
  },
  {
   "cell_type": "markdown",
   "id": "36898a7e-0946-4add-a93f-34853513ffd1",
   "metadata": {},
   "source": [
    "## HSV分布"
   ]
  },
  {
   "cell_type": "markdown",
   "id": "79a43e84-32e1-4daa-8d2e-01791a909e0d",
   "metadata": {},
   "source": [
    "由于灰度图只有亮度信息，它并没有色彩信息，因此在HSV中，色调（Hue）和饱和度（Saturation）通常为0，而亮度（Value）则与原始灰度值相同。"
   ]
  },
  {
   "cell_type": "code",
   "execution_count": 24,
   "id": "c801e339-dd58-4d34-bf9d-f405ea472969",
   "metadata": {},
   "outputs": [
    {
     "name": "stdout",
     "output_type": "stream",
     "text": [
      "Hue Mean: 0.00, Saturation Mean: 0.00, Bright Mean: 66.25\n"
     ]
    }
   ],
   "source": [
    "# 分离HSV通道\n",
    "h, s, v = cv2.split(gray_hsv_image)\n",
    " \n",
    "# 计算H、S、V通道的均值\n",
    "mean_h = cv2.mean(h)[0] # np.mean(h)\n",
    "mean_s = cv2.mean(s)[0]\n",
    "mean_v = cv2.mean(v)[0]\n",
    " \n",
    "print('Hue Mean: {:.2f}, Saturation Mean: {:.2f}, Bright Mean: {:.2f}'.format(mean_h, mean_s, mean_v))"
   ]
  },
  {
   "cell_type": "code",
   "execution_count": 7,
   "id": "7718342c-4eb7-4de8-bbed-f1f4648d2469",
   "metadata": {},
   "outputs": [
    {
     "name": "stdout",
     "output_type": "stream",
     "text": [
      "The Brightest Pixel Column: 303\n"
     ]
    }
   ],
   "source": [
    "# 观察图像行或列的亮度分布\n",
    "\n",
    "(height,width,deep) = hsv_image.shape\n",
    "\n",
    "column_vmeans = v.mean(axis=0)  # 按列计算亮度均值\n",
    "brightest_Column = np.argmax(column_vmeans) # 最大亮度列下标\n",
    "print(\"The Brightest Pixel Column:\", brightest_Column)\n",
    "\n",
    "# 在图像上标出最亮列\n",
    "ptStart = (brightest_Column, 0) # 起点\n",
    "ptEnd = (brightest_Column, height) # 终点\n",
    "point_color = (0, 255, 0)  # 最亮列颜色设置为绿色\n",
    "thickness = 1 # 线条宽度\n",
    "cv2.line(image, ptStart, ptEnd, point_color, thickness)\n",
    "\n",
    "cv2.imshow('img', image)\n",
    "cv2.waitKey(0)\n",
    "cv2.destroyAllWindows()"
   ]
  },
  {
   "cell_type": "markdown",
   "id": "3cf7ec02-282d-47e8-9868-b7287b981270",
   "metadata": {},
   "source": [
    "## 颜色检测"
   ]
  },
  {
   "cell_type": "markdown",
   "id": "c9edcac6-5cc5-4d20-a46b-36bf3b41fafc",
   "metadata": {},
   "source": [
    "`mask = cv2.inRange(hsv, lower, upper)`\n",
    "- hsv: hsv格式的image\n",
    "- lower: 识别颜色的最低hsv值，低于该值的图像值设置为0（黑）\n",
    "- upper: 识别颜色中的最高hsv值，高于该值的图像值设置为0(黑）\n",
    "- lower~upper：设置为255（白）"
   ]
  },
  {
   "cell_type": "markdown",
   "id": "523ad3a6-d623-4400-a628-8616d9543a28",
   "metadata": {},
   "source": [
    "### 指定颜色块识别"
   ]
  },
  {
   "cell_type": "code",
   "execution_count": 4,
   "id": "10ece4b4-b98e-4624-a5bd-4c80fbe8adb2",
   "metadata": {},
   "outputs": [
    {
     "name": "stdout",
     "output_type": "stream",
     "text": [
      "[[[129  72 234]]]\n"
     ]
    }
   ],
   "source": [
    "# 读取图片\n",
    "image = cv2.imread(r\"C:\\Users\\lin kexiu\\Pictures\\mushi\\007vAwKYgy1hjs5ijuwfkj30xc1e0ke8.jpg\")\n",
    "\n",
    "# 转换颜色空间从BGR到HSV\n",
    "hsv_image = cv2.cvtColor(image, cv2.COLOR_BGR2HSV)\n",
    "\n",
    "# 获取指定颜色对应的HSV值\n",
    "purple = np.uint8([[[234,168,187]]])\n",
    "hsv_purple = cv2.cvtColor(purple,cv2.COLOR_BGR2HSV)\n",
    "print(hsv_purple)"
   ]
  },
  {
   "cell_type": "code",
   "execution_count": 5,
   "id": "1886bb08-ceaa-4f30-ad9c-1b7f888ecb41",
   "metadata": {},
   "outputs": [
    {
     "name": "stdout",
     "output_type": "stream",
     "text": [
      "(1035, 690)\n",
      "714150\n"
     ]
    }
   ],
   "source": [
    "lower = (119, 36, 150)\n",
    "upper = (139, 100, 255)\n",
    "\n",
    "# 创建颜色掩码\n",
    "mask = cv2.inRange(hsv_image, np.array(lower), np.array(upper))\n",
    "# kernel = cv2.getStructuringElement(cv2.MORPH_RECT, (5, 5))\n",
    "# mask = cv2.morphologyEx(mask, cv2.MORPH_OPEN, kernel)\n",
    "print(mask.shape)\n",
    "print(mask.size)"
   ]
  },
  {
   "cell_type": "code",
   "execution_count": 6,
   "id": "5214298a-df88-42ec-b1a5-74e811db4dba",
   "metadata": {},
   "outputs": [
    {
     "name": "stdout",
     "output_type": "stream",
     "text": [
      "{0: 664633, 255: 49517}\n"
     ]
    }
   ],
   "source": [
    "# 统计0和255出现的次数\n",
    "unique_value, counts = np.unique(mask, return_counts=True)\n",
    "value_dict = dict(zip(unique_value, counts))\n",
    "print(value_dict)"
   ]
  },
  {
   "cell_type": "code",
   "execution_count": 7,
   "id": "af36008a-4ddc-4fa3-b200-c8dad856bff5",
   "metadata": {},
   "outputs": [
    {
     "data": {
      "text/plain": [
       "714150"
      ]
     },
     "execution_count": 7,
     "metadata": {},
     "output_type": "execute_result"
    }
   ],
   "source": [
    "sum(counts)"
   ]
  },
  {
   "cell_type": "code",
   "execution_count": 8,
   "id": "5211a445-fe0b-4b6d-ab43-92ced6e580be",
   "metadata": {},
   "outputs": [],
   "source": [
    "# 用掩码提取特定颜色的区域\n",
    "color_image = cv2.bitwise_and(image, image, mask=mask)"
   ]
  },
  {
   "cell_type": "code",
   "execution_count": 9,
   "id": "21364ab4-cb5e-4267-821e-59375625d3ce",
   "metadata": {},
   "outputs": [],
   "source": [
    "# 显示结果\n",
    "cv2.imshow(\"purple_mask\", color_image)\n",
    "cv2.imshow(\"image_mask\", mask)\n",
    "cv2.waitKey(0)\n",
    "cv2.destroyAllWindows()"
   ]
  },
  {
   "cell_type": "markdown",
   "id": "205dab5a-3847-45ec-837d-68653db726e1",
   "metadata": {},
   "source": [
    "### 多个颜色块识别"
   ]
  },
  {
   "cell_type": "code",
   "execution_count": 10,
   "id": "10caf5a4-d65a-4b83-bcf2-49812dc88fb4",
   "metadata": {},
   "outputs": [],
   "source": [
    "# 定义颜色的HSV范围\n",
    "color_ranges = {\n",
    "    'black': ((0, 0, 0), (180, 255, 46)),\n",
    "    'white': ((0, 0, 221), (180, 30, 255)),\n",
    "    'gray': ((0, 0, 46), (180, 43, 220)),\n",
    "    # 'red':((0, 43, 46), (10, 255, 255)),\n",
    "    'orange': ((11, 43, 46), (25, 255, 255)),\n",
    "    # 'yellow': ((26, 43, 46), (34, 255, 255)),\n",
    "    'green': ((35, 43, 46), (77, 255, 255)),\n",
    "    'cyan': ((78, 43, 180), (99, 46, 255)),\n",
    "    # 'blue': ((100, 43, 46), (124, 255, 255)),\n",
    "    'purple': ((125, 43, 46), (155, 255, 255))\n",
    "}"
   ]
  },
  {
   "cell_type": "code",
   "execution_count": 11,
   "id": "6c9995ab-12bf-4a80-baf7-0a864e5e9da9",
   "metadata": {},
   "outputs": [],
   "source": [
    "true_ratios = [] # 存储色块所占比例(%)"
   ]
  },
  {
   "cell_type": "code",
   "execution_count": 12,
   "id": "ef9e0a21-93ee-4314-b94c-0406928e7264",
   "metadata": {},
   "outputs": [],
   "source": [
    "# 检测颜色并绘制轮廓\n",
    "for color_name, (lower, upper) in color_ranges.items():\n",
    "    # 创建颜色掩码\n",
    "    mask = cv2.inRange(hsv_image, np.array(lower), np.array(upper))\n",
    "    # kernel = cv2.getStructuringElement(cv2.MORPH_RECT, (5, 5))\n",
    "    # mask = cv2.morphologyEx(mask, cv2.MORPH_OPEN, kernel)\n",
    "\n",
    "    # 统计0和255出现的次数\n",
    "    unique_value, counts = np.unique(mask, return_counts=True)\n",
    "    if len(counts) == 2:\n",
    "        true_pixels = counts[1]\n",
    "    else:\n",
    "        true_pixels = 0\n",
    "    total_pixels = mask.size\n",
    "    true_ratio = round(true_pixels/total_pixels*100, 2)\n",
    "    dict = {color_name: true_ratio}\n",
    "    true_ratios.append(dict)\n",
    "\n",
    "    # 用掩码提取特定颜色的区域\n",
    "    color_image = cv2.bitwise_and(image, image, mask=mask)\n",
    "        \n",
    "    # 显示结果\n",
    "    cv2.imshow(color_name, color_image)\n",
    "    cv2.waitKey(0)\n",
    "    \n",
    "cv2.destroyAllWindows()"
   ]
  },
  {
   "cell_type": "code",
   "execution_count": 13,
   "id": "6b437ab5-1244-45f2-acad-c3d5699f9805",
   "metadata": {},
   "outputs": [
    {
     "name": "stdout",
     "output_type": "stream",
     "text": [
      "[{'black': 2.3}, {'white': 68.16}, {'gray': 9.53}, {'orange': 1.37}, {'green': 0.0}, {'cyan': 0.0}, {'purple': 7.08}]\n"
     ]
    }
   ],
   "source": [
    "print(true_ratios)"
   ]
  }
 ],
 "metadata": {
  "kernelspec": {
   "display_name": "tf_1",
   "language": "python",
   "name": "tf_1"
  },
  "language_info": {
   "codemirror_mode": {
    "name": "ipython",
    "version": 3
   },
   "file_extension": ".py",
   "mimetype": "text/x-python",
   "name": "python",
   "nbconvert_exporter": "python",
   "pygments_lexer": "ipython3",
   "version": "3.6.2"
  }
 },
 "nbformat": 4,
 "nbformat_minor": 5
}
